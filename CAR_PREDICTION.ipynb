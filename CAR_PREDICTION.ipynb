{
  "nbformat": 4,
  "nbformat_minor": 0,
  "metadata": {
    "colab": {
      "provenance": [],
      "authorship_tag": "ABX9TyML7b5BwkZoQ7Uf/E6gaAbH"
    },
    "kernelspec": {
      "name": "python3",
      "display_name": "Python 3"
    },
    "language_info": {
      "name": "python"
    },
    "widgets": {
      "application/vnd.jupyter.widget-state+json": {
        "0596c7b8bd934b609f6f4fdbf42624b9": {
          "model_module": "@jupyter-widgets/controls",
          "model_name": "HBoxModel",
          "model_module_version": "1.5.0",
          "state": {
            "_dom_classes": [],
            "_model_module": "@jupyter-widgets/controls",
            "_model_module_version": "1.5.0",
            "_model_name": "HBoxModel",
            "_view_count": null,
            "_view_module": "@jupyter-widgets/controls",
            "_view_module_version": "1.5.0",
            "_view_name": "HBoxView",
            "box_style": "",
            "children": [
              "IPY_MODEL_53d06332ae4b486ebbd6130de1fa7f55",
              "IPY_MODEL_e25c17a435e4483e818c0335eb6d31f5",
              "IPY_MODEL_7ed73cfa80424cc18af1fddb807279a5"
            ],
            "layout": "IPY_MODEL_c99402e1c3ec4159b719f3e7bf275dd3"
          }
        },
        "53d06332ae4b486ebbd6130de1fa7f55": {
          "model_module": "@jupyter-widgets/controls",
          "model_name": "HTMLModel",
          "model_module_version": "1.5.0",
          "state": {
            "_dom_classes": [],
            "_model_module": "@jupyter-widgets/controls",
            "_model_module_version": "1.5.0",
            "_model_name": "HTMLModel",
            "_view_count": null,
            "_view_module": "@jupyter-widgets/controls",
            "_view_module_version": "1.5.0",
            "_view_name": "HTMLView",
            "description": "",
            "description_tooltip": null,
            "layout": "IPY_MODEL_42d017b9c66d4852892c65a0f46985e7",
            "placeholder": "​",
            "style": "IPY_MODEL_ec8cc717d53b4b52a3d6aa354edf4521",
            "value": "Processing: 100%"
          }
        },
        "e25c17a435e4483e818c0335eb6d31f5": {
          "model_module": "@jupyter-widgets/controls",
          "model_name": "FloatProgressModel",
          "model_module_version": "1.5.0",
          "state": {
            "_dom_classes": [],
            "_model_module": "@jupyter-widgets/controls",
            "_model_module_version": "1.5.0",
            "_model_name": "FloatProgressModel",
            "_view_count": null,
            "_view_module": "@jupyter-widgets/controls",
            "_view_module_version": "1.5.0",
            "_view_name": "ProgressView",
            "bar_style": "",
            "description": "",
            "description_tooltip": null,
            "layout": "IPY_MODEL_28b4796a3c7a488c9948f8f9a68884bc",
            "max": 81,
            "min": 0,
            "orientation": "horizontal",
            "style": "IPY_MODEL_5111e74fab0540d9af76a70275da8ced",
            "value": 81
          }
        },
        "7ed73cfa80424cc18af1fddb807279a5": {
          "model_module": "@jupyter-widgets/controls",
          "model_name": "HTMLModel",
          "model_module_version": "1.5.0",
          "state": {
            "_dom_classes": [],
            "_model_module": "@jupyter-widgets/controls",
            "_model_module_version": "1.5.0",
            "_model_name": "HTMLModel",
            "_view_count": null,
            "_view_module": "@jupyter-widgets/controls",
            "_view_module_version": "1.5.0",
            "_view_name": "HTMLView",
            "description": "",
            "description_tooltip": null,
            "layout": "IPY_MODEL_e27beab9ecb04038b199035d09c750a8",
            "placeholder": "​",
            "style": "IPY_MODEL_72f27b08f5a5402ca1a78641b16ecbc8",
            "value": " 81/81 [00:25&lt;00:00,  3.48it/s]"
          }
        },
        "c99402e1c3ec4159b719f3e7bf275dd3": {
          "model_module": "@jupyter-widgets/base",
          "model_name": "LayoutModel",
          "model_module_version": "1.2.0",
          "state": {
            "_model_module": "@jupyter-widgets/base",
            "_model_module_version": "1.2.0",
            "_model_name": "LayoutModel",
            "_view_count": null,
            "_view_module": "@jupyter-widgets/base",
            "_view_module_version": "1.2.0",
            "_view_name": "LayoutView",
            "align_content": null,
            "align_items": null,
            "align_self": null,
            "border": null,
            "bottom": null,
            "display": null,
            "flex": null,
            "flex_flow": null,
            "grid_area": null,
            "grid_auto_columns": null,
            "grid_auto_flow": null,
            "grid_auto_rows": null,
            "grid_column": null,
            "grid_gap": null,
            "grid_row": null,
            "grid_template_areas": null,
            "grid_template_columns": null,
            "grid_template_rows": null,
            "height": null,
            "justify_content": null,
            "justify_items": null,
            "left": null,
            "margin": null,
            "max_height": null,
            "max_width": null,
            "min_height": null,
            "min_width": null,
            "object_fit": null,
            "object_position": null,
            "order": null,
            "overflow": null,
            "overflow_x": null,
            "overflow_y": null,
            "padding": null,
            "right": null,
            "top": null,
            "visibility": "hidden",
            "width": null
          }
        },
        "42d017b9c66d4852892c65a0f46985e7": {
          "model_module": "@jupyter-widgets/base",
          "model_name": "LayoutModel",
          "model_module_version": "1.2.0",
          "state": {
            "_model_module": "@jupyter-widgets/base",
            "_model_module_version": "1.2.0",
            "_model_name": "LayoutModel",
            "_view_count": null,
            "_view_module": "@jupyter-widgets/base",
            "_view_module_version": "1.2.0",
            "_view_name": "LayoutView",
            "align_content": null,
            "align_items": null,
            "align_self": null,
            "border": null,
            "bottom": null,
            "display": null,
            "flex": null,
            "flex_flow": null,
            "grid_area": null,
            "grid_auto_columns": null,
            "grid_auto_flow": null,
            "grid_auto_rows": null,
            "grid_column": null,
            "grid_gap": null,
            "grid_row": null,
            "grid_template_areas": null,
            "grid_template_columns": null,
            "grid_template_rows": null,
            "height": null,
            "justify_content": null,
            "justify_items": null,
            "left": null,
            "margin": null,
            "max_height": null,
            "max_width": null,
            "min_height": null,
            "min_width": null,
            "object_fit": null,
            "object_position": null,
            "order": null,
            "overflow": null,
            "overflow_x": null,
            "overflow_y": null,
            "padding": null,
            "right": null,
            "top": null,
            "visibility": null,
            "width": null
          }
        },
        "ec8cc717d53b4b52a3d6aa354edf4521": {
          "model_module": "@jupyter-widgets/controls",
          "model_name": "DescriptionStyleModel",
          "model_module_version": "1.5.0",
          "state": {
            "_model_module": "@jupyter-widgets/controls",
            "_model_module_version": "1.5.0",
            "_model_name": "DescriptionStyleModel",
            "_view_count": null,
            "_view_module": "@jupyter-widgets/base",
            "_view_module_version": "1.2.0",
            "_view_name": "StyleView",
            "description_width": ""
          }
        },
        "28b4796a3c7a488c9948f8f9a68884bc": {
          "model_module": "@jupyter-widgets/base",
          "model_name": "LayoutModel",
          "model_module_version": "1.2.0",
          "state": {
            "_model_module": "@jupyter-widgets/base",
            "_model_module_version": "1.2.0",
            "_model_name": "LayoutModel",
            "_view_count": null,
            "_view_module": "@jupyter-widgets/base",
            "_view_module_version": "1.2.0",
            "_view_name": "LayoutView",
            "align_content": null,
            "align_items": null,
            "align_self": null,
            "border": null,
            "bottom": null,
            "display": null,
            "flex": null,
            "flex_flow": null,
            "grid_area": null,
            "grid_auto_columns": null,
            "grid_auto_flow": null,
            "grid_auto_rows": null,
            "grid_column": null,
            "grid_gap": null,
            "grid_row": null,
            "grid_template_areas": null,
            "grid_template_columns": null,
            "grid_template_rows": null,
            "height": null,
            "justify_content": null,
            "justify_items": null,
            "left": null,
            "margin": null,
            "max_height": null,
            "max_width": null,
            "min_height": null,
            "min_width": null,
            "object_fit": null,
            "object_position": null,
            "order": null,
            "overflow": null,
            "overflow_x": null,
            "overflow_y": null,
            "padding": null,
            "right": null,
            "top": null,
            "visibility": null,
            "width": null
          }
        },
        "5111e74fab0540d9af76a70275da8ced": {
          "model_module": "@jupyter-widgets/controls",
          "model_name": "ProgressStyleModel",
          "model_module_version": "1.5.0",
          "state": {
            "_model_module": "@jupyter-widgets/controls",
            "_model_module_version": "1.5.0",
            "_model_name": "ProgressStyleModel",
            "_view_count": null,
            "_view_module": "@jupyter-widgets/base",
            "_view_module_version": "1.2.0",
            "_view_name": "StyleView",
            "bar_color": null,
            "description_width": ""
          }
        },
        "e27beab9ecb04038b199035d09c750a8": {
          "model_module": "@jupyter-widgets/base",
          "model_name": "LayoutModel",
          "model_module_version": "1.2.0",
          "state": {
            "_model_module": "@jupyter-widgets/base",
            "_model_module_version": "1.2.0",
            "_model_name": "LayoutModel",
            "_view_count": null,
            "_view_module": "@jupyter-widgets/base",
            "_view_module_version": "1.2.0",
            "_view_name": "LayoutView",
            "align_content": null,
            "align_items": null,
            "align_self": null,
            "border": null,
            "bottom": null,
            "display": null,
            "flex": null,
            "flex_flow": null,
            "grid_area": null,
            "grid_auto_columns": null,
            "grid_auto_flow": null,
            "grid_auto_rows": null,
            "grid_column": null,
            "grid_gap": null,
            "grid_row": null,
            "grid_template_areas": null,
            "grid_template_columns": null,
            "grid_template_rows": null,
            "height": null,
            "justify_content": null,
            "justify_items": null,
            "left": null,
            "margin": null,
            "max_height": null,
            "max_width": null,
            "min_height": null,
            "min_width": null,
            "object_fit": null,
            "object_position": null,
            "order": null,
            "overflow": null,
            "overflow_x": null,
            "overflow_y": null,
            "padding": null,
            "right": null,
            "top": null,
            "visibility": null,
            "width": null
          }
        },
        "72f27b08f5a5402ca1a78641b16ecbc8": {
          "model_module": "@jupyter-widgets/controls",
          "model_name": "DescriptionStyleModel",
          "model_module_version": "1.5.0",
          "state": {
            "_model_module": "@jupyter-widgets/controls",
            "_model_module_version": "1.5.0",
            "_model_name": "DescriptionStyleModel",
            "_view_count": null,
            "_view_module": "@jupyter-widgets/base",
            "_view_module_version": "1.2.0",
            "_view_name": "StyleView",
            "description_width": ""
          }
        },
        "ef80acb894194e1fb38bd6bf5a320402": {
          "model_module": "@jupyter-widgets/controls",
          "model_name": "HBoxModel",
          "model_module_version": "1.5.0",
          "state": {
            "_dom_classes": [],
            "_model_module": "@jupyter-widgets/controls",
            "_model_module_version": "1.5.0",
            "_model_name": "HBoxModel",
            "_view_count": null,
            "_view_module": "@jupyter-widgets/controls",
            "_view_module_version": "1.5.0",
            "_view_name": "HBoxView",
            "box_style": "",
            "children": [
              "IPY_MODEL_c901f49226a74721aa732fd0399d70d2",
              "IPY_MODEL_f53b7d65ba8a4e62bf3d19e08d132a60",
              "IPY_MODEL_7b97234fd06246f1be1c1ed92ea4ad45"
            ],
            "layout": "IPY_MODEL_0f3b85206ccf4e3db1edf315025018c1"
          }
        },
        "c901f49226a74721aa732fd0399d70d2": {
          "model_module": "@jupyter-widgets/controls",
          "model_name": "HTMLModel",
          "model_module_version": "1.5.0",
          "state": {
            "_dom_classes": [],
            "_model_module": "@jupyter-widgets/controls",
            "_model_module_version": "1.5.0",
            "_model_name": "HTMLModel",
            "_view_count": null,
            "_view_module": "@jupyter-widgets/controls",
            "_view_module_version": "1.5.0",
            "_view_name": "HTMLView",
            "description": "",
            "description_tooltip": null,
            "layout": "IPY_MODEL_8b0292ab784a4b93b6280d87838a0469",
            "placeholder": "​",
            "style": "IPY_MODEL_a658e862589d46f1845deb195eb8026b",
            "value": "Processing: 100%"
          }
        },
        "f53b7d65ba8a4e62bf3d19e08d132a60": {
          "model_module": "@jupyter-widgets/controls",
          "model_name": "FloatProgressModel",
          "model_module_version": "1.5.0",
          "state": {
            "_dom_classes": [],
            "_model_module": "@jupyter-widgets/controls",
            "_model_module_version": "1.5.0",
            "_model_name": "FloatProgressModel",
            "_view_count": null,
            "_view_module": "@jupyter-widgets/controls",
            "_view_module_version": "1.5.0",
            "_view_name": "ProgressView",
            "bar_style": "",
            "description": "",
            "description_tooltip": null,
            "layout": "IPY_MODEL_fe94362fd6bd40b2abd2e597bd25ae46",
            "max": 4,
            "min": 0,
            "orientation": "horizontal",
            "style": "IPY_MODEL_b911051b7026445e86998bc27e321b59",
            "value": 4
          }
        },
        "7b97234fd06246f1be1c1ed92ea4ad45": {
          "model_module": "@jupyter-widgets/controls",
          "model_name": "HTMLModel",
          "model_module_version": "1.5.0",
          "state": {
            "_dom_classes": [],
            "_model_module": "@jupyter-widgets/controls",
            "_model_module_version": "1.5.0",
            "_model_name": "HTMLModel",
            "_view_count": null,
            "_view_module": "@jupyter-widgets/controls",
            "_view_module_version": "1.5.0",
            "_view_name": "HTMLView",
            "description": "",
            "description_tooltip": null,
            "layout": "IPY_MODEL_4f1ff1fed8ec48b3836fb95ee064ff26",
            "placeholder": "​",
            "style": "IPY_MODEL_2c4aa70b273e4ad8a03a721892f5b8ff",
            "value": " 4/4 [00:01&lt;00:00,  3.02it/s]"
          }
        },
        "0f3b85206ccf4e3db1edf315025018c1": {
          "model_module": "@jupyter-widgets/base",
          "model_name": "LayoutModel",
          "model_module_version": "1.2.0",
          "state": {
            "_model_module": "@jupyter-widgets/base",
            "_model_module_version": "1.2.0",
            "_model_name": "LayoutModel",
            "_view_count": null,
            "_view_module": "@jupyter-widgets/base",
            "_view_module_version": "1.2.0",
            "_view_name": "LayoutView",
            "align_content": null,
            "align_items": null,
            "align_self": null,
            "border": null,
            "bottom": null,
            "display": null,
            "flex": null,
            "flex_flow": null,
            "grid_area": null,
            "grid_auto_columns": null,
            "grid_auto_flow": null,
            "grid_auto_rows": null,
            "grid_column": null,
            "grid_gap": null,
            "grid_row": null,
            "grid_template_areas": null,
            "grid_template_columns": null,
            "grid_template_rows": null,
            "height": null,
            "justify_content": null,
            "justify_items": null,
            "left": null,
            "margin": null,
            "max_height": null,
            "max_width": null,
            "min_height": null,
            "min_width": null,
            "object_fit": null,
            "object_position": null,
            "order": null,
            "overflow": null,
            "overflow_x": null,
            "overflow_y": null,
            "padding": null,
            "right": null,
            "top": null,
            "visibility": "hidden",
            "width": null
          }
        },
        "8b0292ab784a4b93b6280d87838a0469": {
          "model_module": "@jupyter-widgets/base",
          "model_name": "LayoutModel",
          "model_module_version": "1.2.0",
          "state": {
            "_model_module": "@jupyter-widgets/base",
            "_model_module_version": "1.2.0",
            "_model_name": "LayoutModel",
            "_view_count": null,
            "_view_module": "@jupyter-widgets/base",
            "_view_module_version": "1.2.0",
            "_view_name": "LayoutView",
            "align_content": null,
            "align_items": null,
            "align_self": null,
            "border": null,
            "bottom": null,
            "display": null,
            "flex": null,
            "flex_flow": null,
            "grid_area": null,
            "grid_auto_columns": null,
            "grid_auto_flow": null,
            "grid_auto_rows": null,
            "grid_column": null,
            "grid_gap": null,
            "grid_row": null,
            "grid_template_areas": null,
            "grid_template_columns": null,
            "grid_template_rows": null,
            "height": null,
            "justify_content": null,
            "justify_items": null,
            "left": null,
            "margin": null,
            "max_height": null,
            "max_width": null,
            "min_height": null,
            "min_width": null,
            "object_fit": null,
            "object_position": null,
            "order": null,
            "overflow": null,
            "overflow_x": null,
            "overflow_y": null,
            "padding": null,
            "right": null,
            "top": null,
            "visibility": null,
            "width": null
          }
        },
        "a658e862589d46f1845deb195eb8026b": {
          "model_module": "@jupyter-widgets/controls",
          "model_name": "DescriptionStyleModel",
          "model_module_version": "1.5.0",
          "state": {
            "_model_module": "@jupyter-widgets/controls",
            "_model_module_version": "1.5.0",
            "_model_name": "DescriptionStyleModel",
            "_view_count": null,
            "_view_module": "@jupyter-widgets/base",
            "_view_module_version": "1.2.0",
            "_view_name": "StyleView",
            "description_width": ""
          }
        },
        "fe94362fd6bd40b2abd2e597bd25ae46": {
          "model_module": "@jupyter-widgets/base",
          "model_name": "LayoutModel",
          "model_module_version": "1.2.0",
          "state": {
            "_model_module": "@jupyter-widgets/base",
            "_model_module_version": "1.2.0",
            "_model_name": "LayoutModel",
            "_view_count": null,
            "_view_module": "@jupyter-widgets/base",
            "_view_module_version": "1.2.0",
            "_view_name": "LayoutView",
            "align_content": null,
            "align_items": null,
            "align_self": null,
            "border": null,
            "bottom": null,
            "display": null,
            "flex": null,
            "flex_flow": null,
            "grid_area": null,
            "grid_auto_columns": null,
            "grid_auto_flow": null,
            "grid_auto_rows": null,
            "grid_column": null,
            "grid_gap": null,
            "grid_row": null,
            "grid_template_areas": null,
            "grid_template_columns": null,
            "grid_template_rows": null,
            "height": null,
            "justify_content": null,
            "justify_items": null,
            "left": null,
            "margin": null,
            "max_height": null,
            "max_width": null,
            "min_height": null,
            "min_width": null,
            "object_fit": null,
            "object_position": null,
            "order": null,
            "overflow": null,
            "overflow_x": null,
            "overflow_y": null,
            "padding": null,
            "right": null,
            "top": null,
            "visibility": null,
            "width": null
          }
        },
        "b911051b7026445e86998bc27e321b59": {
          "model_module": "@jupyter-widgets/controls",
          "model_name": "ProgressStyleModel",
          "model_module_version": "1.5.0",
          "state": {
            "_model_module": "@jupyter-widgets/controls",
            "_model_module_version": "1.5.0",
            "_model_name": "ProgressStyleModel",
            "_view_count": null,
            "_view_module": "@jupyter-widgets/base",
            "_view_module_version": "1.2.0",
            "_view_name": "StyleView",
            "bar_color": null,
            "description_width": ""
          }
        },
        "4f1ff1fed8ec48b3836fb95ee064ff26": {
          "model_module": "@jupyter-widgets/base",
          "model_name": "LayoutModel",
          "model_module_version": "1.2.0",
          "state": {
            "_model_module": "@jupyter-widgets/base",
            "_model_module_version": "1.2.0",
            "_model_name": "LayoutModel",
            "_view_count": null,
            "_view_module": "@jupyter-widgets/base",
            "_view_module_version": "1.2.0",
            "_view_name": "LayoutView",
            "align_content": null,
            "align_items": null,
            "align_self": null,
            "border": null,
            "bottom": null,
            "display": null,
            "flex": null,
            "flex_flow": null,
            "grid_area": null,
            "grid_auto_columns": null,
            "grid_auto_flow": null,
            "grid_auto_rows": null,
            "grid_column": null,
            "grid_gap": null,
            "grid_row": null,
            "grid_template_areas": null,
            "grid_template_columns": null,
            "grid_template_rows": null,
            "height": null,
            "justify_content": null,
            "justify_items": null,
            "left": null,
            "margin": null,
            "max_height": null,
            "max_width": null,
            "min_height": null,
            "min_width": null,
            "object_fit": null,
            "object_position": null,
            "order": null,
            "overflow": null,
            "overflow_x": null,
            "overflow_y": null,
            "padding": null,
            "right": null,
            "top": null,
            "visibility": null,
            "width": null
          }
        },
        "2c4aa70b273e4ad8a03a721892f5b8ff": {
          "model_module": "@jupyter-widgets/controls",
          "model_name": "DescriptionStyleModel",
          "model_module_version": "1.5.0",
          "state": {
            "_model_module": "@jupyter-widgets/controls",
            "_model_module_version": "1.5.0",
            "_model_name": "DescriptionStyleModel",
            "_view_count": null,
            "_view_module": "@jupyter-widgets/base",
            "_view_module_version": "1.2.0",
            "_view_name": "StyleView",
            "description_width": ""
          }
        }
      }
    }
  },
  "cells": [
    {
      "cell_type": "code",
      "source": [
        "!pip install pycaret"
      ],
      "metadata": {
        "id": "arNl0uNQnC79",
        "colab": {
          "base_uri": "https://localhost:8080/"
        },
        "outputId": "57d51db6-a1cc-432e-b4ed-6e7ea0e87c76"
      },
      "execution_count": 6,
      "outputs": [
        {
          "output_type": "stream",
          "name": "stdout",
          "text": [
            "Collecting pycaret\n",
            "  Downloading pycaret-3.1.0-py3-none-any.whl (483 kB)\n",
            "\u001b[?25l     \u001b[90m━━━━━━━━━━━━━━━━━━━━━━━━━━━━━━━━━━━━━━━━\u001b[0m \u001b[32m0.0/483.9 kB\u001b[0m \u001b[31m?\u001b[0m eta \u001b[36m-:--:--\u001b[0m\r\u001b[2K     \u001b[91m━━━━━━━━━\u001b[0m\u001b[90m╺\u001b[0m\u001b[90m━━━━━━━━━━━━━━━━━━━━━━━━━━━━━━\u001b[0m \u001b[32m112.6/483.9 kB\u001b[0m \u001b[31m3.2 MB/s\u001b[0m eta \u001b[36m0:00:01\u001b[0m\r\u001b[2K     \u001b[90m━━━━━━━━━━━━━━━━━━━━━━━━━━━━━━━━━━━━━━━━\u001b[0m \u001b[32m483.9/483.9 kB\u001b[0m \u001b[31m7.0 MB/s\u001b[0m eta \u001b[36m0:00:00\u001b[0m\n",
            "\u001b[?25hRequirement already satisfied: ipython>=5.5.0 in /usr/local/lib/python3.10/dist-packages (from pycaret) (7.34.0)\n",
            "Requirement already satisfied: ipywidgets>=7.6.5 in /usr/local/lib/python3.10/dist-packages (from pycaret) (7.7.1)\n",
            "Requirement already satisfied: tqdm>=4.62.0 in /usr/local/lib/python3.10/dist-packages (from pycaret) (4.66.1)\n",
            "Requirement already satisfied: numpy<1.24,>=1.21 in /usr/local/lib/python3.10/dist-packages (from pycaret) (1.23.5)\n",
            "Requirement already satisfied: pandas<2.0.0,>=1.3.0 in /usr/local/lib/python3.10/dist-packages (from pycaret) (1.5.3)\n",
            "Requirement already satisfied: jinja2>=1.2 in /usr/local/lib/python3.10/dist-packages (from pycaret) (3.1.2)\n",
            "Collecting scipy~=1.10.1 (from pycaret)\n",
            "  Downloading scipy-1.10.1-cp310-cp310-manylinux_2_17_x86_64.manylinux2014_x86_64.whl (34.4 MB)\n",
            "\u001b[2K     \u001b[90m━━━━━━━━━━━━━━━━━━━━━━━━━━━━━━━━━━━━━━━━\u001b[0m \u001b[32m34.4/34.4 MB\u001b[0m \u001b[31m43.4 MB/s\u001b[0m eta \u001b[36m0:00:00\u001b[0m\n",
            "\u001b[?25hRequirement already satisfied: joblib>=1.2.0 in /usr/local/lib/python3.10/dist-packages (from pycaret) (1.3.2)\n",
            "Requirement already satisfied: scikit-learn<1.3.0,>=1.0 in /usr/local/lib/python3.10/dist-packages (from pycaret) (1.2.2)\n",
            "Collecting pyod>=1.0.8 (from pycaret)\n",
            "  Downloading pyod-1.1.1.tar.gz (159 kB)\n",
            "\u001b[2K     \u001b[90m━━━━━━━━━━━━━━━━━━━━━━━━━━━━━━━━━━━━━━━━\u001b[0m \u001b[32m159.4/159.4 kB\u001b[0m \u001b[31m17.9 MB/s\u001b[0m eta \u001b[36m0:00:00\u001b[0m\n",
            "\u001b[?25h  Preparing metadata (setup.py) ... \u001b[?25l\u001b[?25hdone\n",
            "Requirement already satisfied: imbalanced-learn>=0.8.1 in /usr/local/lib/python3.10/dist-packages (from pycaret) (0.10.1)\n",
            "Collecting category-encoders>=2.4.0 (from pycaret)\n",
            "  Downloading category_encoders-2.6.3-py2.py3-none-any.whl (81 kB)\n",
            "\u001b[2K     \u001b[90m━━━━━━━━━━━━━━━━━━━━━━━━━━━━━━━━━━━━━━━━\u001b[0m \u001b[32m81.9/81.9 kB\u001b[0m \u001b[31m9.4 MB/s\u001b[0m eta \u001b[36m0:00:00\u001b[0m\n",
            "\u001b[?25hRequirement already satisfied: lightgbm>=3.0.0 in /usr/local/lib/python3.10/dist-packages (from pycaret) (4.1.0)\n",
            "Requirement already satisfied: numba>=0.55.0 in /usr/local/lib/python3.10/dist-packages (from pycaret) (0.56.4)\n",
            "Requirement already satisfied: requests>=2.27.1 in /usr/local/lib/python3.10/dist-packages (from pycaret) (2.31.0)\n",
            "Requirement already satisfied: psutil>=5.9.0 in /usr/local/lib/python3.10/dist-packages (from pycaret) (5.9.5)\n",
            "Requirement already satisfied: markupsafe>=2.0.1 in /usr/local/lib/python3.10/dist-packages (from pycaret) (2.1.3)\n",
            "Requirement already satisfied: importlib-metadata>=4.12.0 in /usr/local/lib/python3.10/dist-packages (from pycaret) (6.8.0)\n",
            "Requirement already satisfied: nbformat>=4.2.0 in /usr/local/lib/python3.10/dist-packages (from pycaret) (5.9.2)\n",
            "Requirement already satisfied: cloudpickle in /usr/local/lib/python3.10/dist-packages (from pycaret) (2.2.1)\n",
            "Collecting deprecation>=2.1.0 (from pycaret)\n",
            "  Downloading deprecation-2.1.0-py2.py3-none-any.whl (11 kB)\n",
            "Requirement already satisfied: xxhash in /usr/local/lib/python3.10/dist-packages (from pycaret) (3.4.1)\n",
            "Requirement already satisfied: matplotlib>=3.3.0 in /usr/local/lib/python3.10/dist-packages (from pycaret) (3.7.1)\n",
            "Collecting scikit-plot>=0.3.7 (from pycaret)\n",
            "  Downloading scikit_plot-0.3.7-py3-none-any.whl (33 kB)\n",
            "Requirement already satisfied: yellowbrick>=1.4 in /usr/local/lib/python3.10/dist-packages (from pycaret) (1.5)\n",
            "Requirement already satisfied: plotly>=5.0.0 in /usr/local/lib/python3.10/dist-packages (from pycaret) (5.15.0)\n",
            "Collecting kaleido>=0.2.1 (from pycaret)\n",
            "  Downloading kaleido-0.2.1-py2.py3-none-manylinux1_x86_64.whl (79.9 MB)\n",
            "\u001b[2K     \u001b[90m━━━━━━━━━━━━━━━━━━━━━━━━━━━━━━━━━━━━━━━━\u001b[0m \u001b[32m79.9/79.9 MB\u001b[0m \u001b[31m9.8 MB/s\u001b[0m eta \u001b[36m0:00:00\u001b[0m\n",
            "\u001b[?25hCollecting schemdraw==0.15 (from pycaret)\n",
            "  Downloading schemdraw-0.15-py3-none-any.whl (106 kB)\n",
            "\u001b[2K     \u001b[90m━━━━━━━━━━━━━━━━━━━━━━━━━━━━━━━━━━━━━━━━\u001b[0m \u001b[32m106.8/106.8 kB\u001b[0m \u001b[31m12.4 MB/s\u001b[0m eta \u001b[36m0:00:00\u001b[0m\n",
            "\u001b[?25hCollecting plotly-resampler>=0.8.3.1 (from pycaret)\n",
            "  Downloading plotly_resampler-0.9.1-py3-none-any.whl (73 kB)\n",
            "\u001b[2K     \u001b[90m━━━━━━━━━━━━━━━━━━━━━━━━━━━━━━━━━━━━━━━━\u001b[0m \u001b[32m73.4/73.4 kB\u001b[0m \u001b[31m9.0 MB/s\u001b[0m eta \u001b[36m0:00:00\u001b[0m\n",
            "\u001b[?25hRequirement already satisfied: statsmodels>=0.12.1 in /usr/local/lib/python3.10/dist-packages (from pycaret) (0.14.0)\n",
            "Collecting sktime!=0.17.1,!=0.17.2,!=0.18.0,<0.22.0,>=0.16.1 (from pycaret)\n",
            "  Downloading sktime-0.21.1-py3-none-any.whl (17.1 MB)\n",
            "\u001b[2K     \u001b[90m━━━━━━━━━━━━━━━━━━━━━━━━━━━━━━━━━━━━━━━━\u001b[0m \u001b[32m17.1/17.1 MB\u001b[0m \u001b[31m80.3 MB/s\u001b[0m eta \u001b[36m0:00:00\u001b[0m\n",
            "\u001b[?25hCollecting tbats>=1.1.3 (from pycaret)\n",
            "  Downloading tbats-1.1.3-py3-none-any.whl (44 kB)\n",
            "\u001b[2K     \u001b[90m━━━━━━━━━━━━━━━━━━━━━━━━━━━━━━━━━━━━━━━━\u001b[0m \u001b[32m44.0/44.0 kB\u001b[0m \u001b[31m5.0 MB/s\u001b[0m eta \u001b[36m0:00:00\u001b[0m\n",
            "\u001b[?25hCollecting pmdarima!=1.8.1,<3.0.0,>=1.8.0 (from pycaret)\n",
            "  Downloading pmdarima-2.0.4-cp310-cp310-manylinux_2_17_x86_64.manylinux2014_x86_64.manylinux_2_28_x86_64.whl (2.1 MB)\n",
            "\u001b[2K     \u001b[90m━━━━━━━━━━━━━━━━━━━━━━━━━━━━━━━━━━━━━━━━\u001b[0m \u001b[32m2.1/2.1 MB\u001b[0m \u001b[31m52.2 MB/s\u001b[0m eta \u001b[36m0:00:00\u001b[0m\n",
            "\u001b[?25hCollecting wurlitzer (from pycaret)\n",
            "  Downloading wurlitzer-3.0.3-py3-none-any.whl (7.3 kB)\n",
            "Requirement already satisfied: patsy>=0.5.1 in /usr/local/lib/python3.10/dist-packages (from category-encoders>=2.4.0->pycaret) (0.5.3)\n",
            "Requirement already satisfied: packaging in /usr/local/lib/python3.10/dist-packages (from deprecation>=2.1.0->pycaret) (23.2)\n",
            "Requirement already satisfied: threadpoolctl>=2.0.0 in /usr/local/lib/python3.10/dist-packages (from imbalanced-learn>=0.8.1->pycaret) (3.2.0)\n",
            "Requirement already satisfied: zipp>=0.5 in /usr/local/lib/python3.10/dist-packages (from importlib-metadata>=4.12.0->pycaret) (3.17.0)\n",
            "Requirement already satisfied: setuptools>=18.5 in /usr/local/lib/python3.10/dist-packages (from ipython>=5.5.0->pycaret) (67.7.2)\n",
            "Collecting jedi>=0.16 (from ipython>=5.5.0->pycaret)\n",
            "  Downloading jedi-0.19.1-py2.py3-none-any.whl (1.6 MB)\n",
            "\u001b[2K     \u001b[90m━━━━━━━━━━━━━━━━━━━━━━━━━━━━━━━━━━━━━━━━\u001b[0m \u001b[32m1.6/1.6 MB\u001b[0m \u001b[31m57.0 MB/s\u001b[0m eta \u001b[36m0:00:00\u001b[0m\n",
            "\u001b[?25hRequirement already satisfied: decorator in /usr/local/lib/python3.10/dist-packages (from ipython>=5.5.0->pycaret) (4.4.2)\n",
            "Requirement already satisfied: pickleshare in /usr/local/lib/python3.10/dist-packages (from ipython>=5.5.0->pycaret) (0.7.5)\n",
            "Requirement already satisfied: traitlets>=4.2 in /usr/local/lib/python3.10/dist-packages (from ipython>=5.5.0->pycaret) (5.7.1)\n",
            "Requirement already satisfied: prompt-toolkit!=3.0.0,!=3.0.1,<3.1.0,>=2.0.0 in /usr/local/lib/python3.10/dist-packages (from ipython>=5.5.0->pycaret) (3.0.39)\n",
            "Requirement already satisfied: pygments in /usr/local/lib/python3.10/dist-packages (from ipython>=5.5.0->pycaret) (2.16.1)\n",
            "Requirement already satisfied: backcall in /usr/local/lib/python3.10/dist-packages (from ipython>=5.5.0->pycaret) (0.2.0)\n",
            "Requirement already satisfied: matplotlib-inline in /usr/local/lib/python3.10/dist-packages (from ipython>=5.5.0->pycaret) (0.1.6)\n",
            "Requirement already satisfied: pexpect>4.3 in /usr/local/lib/python3.10/dist-packages (from ipython>=5.5.0->pycaret) (4.8.0)\n",
            "Requirement already satisfied: ipykernel>=4.5.1 in /usr/local/lib/python3.10/dist-packages (from ipywidgets>=7.6.5->pycaret) (5.5.6)\n",
            "Requirement already satisfied: ipython-genutils~=0.2.0 in /usr/local/lib/python3.10/dist-packages (from ipywidgets>=7.6.5->pycaret) (0.2.0)\n",
            "Requirement already satisfied: widgetsnbextension~=3.6.0 in /usr/local/lib/python3.10/dist-packages (from ipywidgets>=7.6.5->pycaret) (3.6.6)\n",
            "Requirement already satisfied: jupyterlab-widgets>=1.0.0 in /usr/local/lib/python3.10/dist-packages (from ipywidgets>=7.6.5->pycaret) (3.0.9)\n",
            "Requirement already satisfied: contourpy>=1.0.1 in /usr/local/lib/python3.10/dist-packages (from matplotlib>=3.3.0->pycaret) (1.1.1)\n",
            "Requirement already satisfied: cycler>=0.10 in /usr/local/lib/python3.10/dist-packages (from matplotlib>=3.3.0->pycaret) (0.12.1)\n",
            "Requirement already satisfied: fonttools>=4.22.0 in /usr/local/lib/python3.10/dist-packages (from matplotlib>=3.3.0->pycaret) (4.43.1)\n",
            "Requirement already satisfied: kiwisolver>=1.0.1 in /usr/local/lib/python3.10/dist-packages (from matplotlib>=3.3.0->pycaret) (1.4.5)\n",
            "Requirement already satisfied: pillow>=6.2.0 in /usr/local/lib/python3.10/dist-packages (from matplotlib>=3.3.0->pycaret) (9.4.0)\n",
            "Requirement already satisfied: pyparsing>=2.3.1 in /usr/local/lib/python3.10/dist-packages (from matplotlib>=3.3.0->pycaret) (3.1.1)\n",
            "Requirement already satisfied: python-dateutil>=2.7 in /usr/local/lib/python3.10/dist-packages (from matplotlib>=3.3.0->pycaret) (2.8.2)\n",
            "Requirement already satisfied: fastjsonschema in /usr/local/lib/python3.10/dist-packages (from nbformat>=4.2.0->pycaret) (2.18.1)\n",
            "Requirement already satisfied: jsonschema>=2.6 in /usr/local/lib/python3.10/dist-packages (from nbformat>=4.2.0->pycaret) (4.19.1)\n",
            "Requirement already satisfied: jupyter-core in /usr/local/lib/python3.10/dist-packages (from nbformat>=4.2.0->pycaret) (5.4.0)\n",
            "Requirement already satisfied: llvmlite<0.40,>=0.39.0dev0 in /usr/local/lib/python3.10/dist-packages (from numba>=0.55.0->pycaret) (0.39.1)\n",
            "Requirement already satisfied: pytz>=2020.1 in /usr/local/lib/python3.10/dist-packages (from pandas<2.0.0,>=1.3.0->pycaret) (2023.3.post1)\n",
            "Requirement already satisfied: tenacity>=6.2.0 in /usr/local/lib/python3.10/dist-packages (from plotly>=5.0.0->pycaret) (8.2.3)\n",
            "Collecting dash<3.0.0,>=2.11.0 (from plotly-resampler>=0.8.3.1->pycaret)\n",
            "  Downloading dash-2.14.1-py3-none-any.whl (10.4 MB)\n",
            "\u001b[2K     \u001b[90m━━━━━━━━━━━━━━━━━━━━━━━━━━━━━━━━━━━━━━━━\u001b[0m \u001b[32m10.4/10.4 MB\u001b[0m \u001b[31m72.0 MB/s\u001b[0m eta \u001b[36m0:00:00\u001b[0m\n",
            "\u001b[?25hCollecting orjson<4.0.0,>=3.8.0 (from plotly-resampler>=0.8.3.1->pycaret)\n",
            "  Downloading orjson-3.9.10-cp310-cp310-manylinux_2_17_x86_64.manylinux2014_x86_64.whl (138 kB)\n",
            "\u001b[2K     \u001b[90m━━━━━━━━━━━━━━━━━━━━━━━━━━━━━━━━━━━━━━━━\u001b[0m \u001b[32m138.7/138.7 kB\u001b[0m \u001b[31m14.5 MB/s\u001b[0m eta \u001b[36m0:00:00\u001b[0m\n",
            "\u001b[?25hCollecting trace-updater>=0.0.8 (from plotly-resampler>=0.8.3.1->pycaret)\n",
            "  Downloading trace_updater-0.0.9.1-py3-none-any.whl (185 kB)\n",
            "\u001b[2K     \u001b[90m━━━━━━━━━━━━━━━━━━━━━━━━━━━━━━━━━━━━━━━━\u001b[0m \u001b[32m185.2/185.2 kB\u001b[0m \u001b[31m16.0 MB/s\u001b[0m eta \u001b[36m0:00:00\u001b[0m\n",
            "\u001b[?25hCollecting tsdownsample==0.1.2 (from plotly-resampler>=0.8.3.1->pycaret)\n",
            "  Downloading tsdownsample-0.1.2-cp310-cp310-manylinux_2_17_x86_64.manylinux2014_x86_64.whl (2.3 MB)\n",
            "\u001b[2K     \u001b[90m━━━━━━━━━━━━━━━━━━━━━━━━━━━━━━━━━━━━━━━━\u001b[0m \u001b[32m2.3/2.3 MB\u001b[0m \u001b[31m79.9 MB/s\u001b[0m eta \u001b[36m0:00:00\u001b[0m\n",
            "\u001b[?25hRequirement already satisfied: Cython!=0.29.18,!=0.29.31,>=0.29 in /usr/local/lib/python3.10/dist-packages (from pmdarima!=1.8.1,<3.0.0,>=1.8.0->pycaret) (3.0.4)\n",
            "Requirement already satisfied: urllib3 in /usr/local/lib/python3.10/dist-packages (from pmdarima!=1.8.1,<3.0.0,>=1.8.0->pycaret) (2.0.7)\n",
            "Requirement already satisfied: six in /usr/local/lib/python3.10/dist-packages (from pyod>=1.0.8->pycaret) (1.16.0)\n",
            "Requirement already satisfied: charset-normalizer<4,>=2 in /usr/local/lib/python3.10/dist-packages (from requests>=2.27.1->pycaret) (3.3.1)\n",
            "Requirement already satisfied: idna<4,>=2.5 in /usr/local/lib/python3.10/dist-packages (from requests>=2.27.1->pycaret) (3.4)\n",
            "Requirement already satisfied: certifi>=2017.4.17 in /usr/local/lib/python3.10/dist-packages (from requests>=2.27.1->pycaret) (2023.7.22)\n",
            "Collecting deprecated>=1.2.13 (from sktime!=0.17.1,!=0.17.2,!=0.18.0,<0.22.0,>=0.16.1->pycaret)\n",
            "  Downloading Deprecated-1.2.14-py2.py3-none-any.whl (9.6 kB)\n",
            "Collecting scikit-base<0.6.0 (from sktime!=0.17.1,!=0.17.2,!=0.18.0,<0.22.0,>=0.16.1->pycaret)\n",
            "  Downloading scikit_base-0.5.2-py3-none-any.whl (118 kB)\n",
            "\u001b[2K     \u001b[90m━━━━━━━━━━━━━━━━━━━━━━━━━━━━━━━━━━━━━━━━\u001b[0m \u001b[32m119.0/119.0 kB\u001b[0m \u001b[31m11.4 MB/s\u001b[0m eta \u001b[36m0:00:00\u001b[0m\n",
            "\u001b[?25hRequirement already satisfied: Flask<3.1,>=1.0.4 in /usr/local/lib/python3.10/dist-packages (from dash<3.0.0,>=2.11.0->plotly-resampler>=0.8.3.1->pycaret) (2.2.5)\n",
            "Requirement already satisfied: Werkzeug<3.1 in /usr/local/lib/python3.10/dist-packages (from dash<3.0.0,>=2.11.0->plotly-resampler>=0.8.3.1->pycaret) (3.0.1)\n",
            "Collecting dash-html-components==2.0.0 (from dash<3.0.0,>=2.11.0->plotly-resampler>=0.8.3.1->pycaret)\n",
            "  Downloading dash_html_components-2.0.0-py3-none-any.whl (4.1 kB)\n",
            "Collecting dash-core-components==2.0.0 (from dash<3.0.0,>=2.11.0->plotly-resampler>=0.8.3.1->pycaret)\n",
            "  Downloading dash_core_components-2.0.0-py3-none-any.whl (3.8 kB)\n",
            "Collecting dash-table==5.0.0 (from dash<3.0.0,>=2.11.0->plotly-resampler>=0.8.3.1->pycaret)\n",
            "  Downloading dash_table-5.0.0-py3-none-any.whl (3.9 kB)\n",
            "Requirement already satisfied: typing-extensions>=4.1.1 in /usr/local/lib/python3.10/dist-packages (from dash<3.0.0,>=2.11.0->plotly-resampler>=0.8.3.1->pycaret) (4.5.0)\n",
            "Collecting retrying (from dash<3.0.0,>=2.11.0->plotly-resampler>=0.8.3.1->pycaret)\n",
            "  Downloading retrying-1.3.4-py3-none-any.whl (11 kB)\n",
            "Collecting ansi2html (from dash<3.0.0,>=2.11.0->plotly-resampler>=0.8.3.1->pycaret)\n",
            "  Downloading ansi2html-1.8.0-py3-none-any.whl (16 kB)\n",
            "Requirement already satisfied: nest-asyncio in /usr/local/lib/python3.10/dist-packages (from dash<3.0.0,>=2.11.0->plotly-resampler>=0.8.3.1->pycaret) (1.5.8)\n",
            "Requirement already satisfied: wrapt<2,>=1.10 in /usr/local/lib/python3.10/dist-packages (from deprecated>=1.2.13->sktime!=0.17.1,!=0.17.2,!=0.18.0,<0.22.0,>=0.16.1->pycaret) (1.14.1)\n",
            "Requirement already satisfied: jupyter-client in /usr/local/lib/python3.10/dist-packages (from ipykernel>=4.5.1->ipywidgets>=7.6.5->pycaret) (6.1.12)\n",
            "Requirement already satisfied: tornado>=4.2 in /usr/local/lib/python3.10/dist-packages (from ipykernel>=4.5.1->ipywidgets>=7.6.5->pycaret) (6.3.2)\n",
            "Requirement already satisfied: parso<0.9.0,>=0.8.3 in /usr/local/lib/python3.10/dist-packages (from jedi>=0.16->ipython>=5.5.0->pycaret) (0.8.3)\n",
            "Requirement already satisfied: attrs>=22.2.0 in /usr/local/lib/python3.10/dist-packages (from jsonschema>=2.6->nbformat>=4.2.0->pycaret) (23.1.0)\n",
            "Requirement already satisfied: jsonschema-specifications>=2023.03.6 in /usr/local/lib/python3.10/dist-packages (from jsonschema>=2.6->nbformat>=4.2.0->pycaret) (2023.7.1)\n",
            "Requirement already satisfied: referencing>=0.28.4 in /usr/local/lib/python3.10/dist-packages (from jsonschema>=2.6->nbformat>=4.2.0->pycaret) (0.30.2)\n",
            "Requirement already satisfied: rpds-py>=0.7.1 in /usr/local/lib/python3.10/dist-packages (from jsonschema>=2.6->nbformat>=4.2.0->pycaret) (0.10.6)\n",
            "Requirement already satisfied: ptyprocess>=0.5 in /usr/local/lib/python3.10/dist-packages (from pexpect>4.3->ipython>=5.5.0->pycaret) (0.7.0)\n",
            "Requirement already satisfied: wcwidth in /usr/local/lib/python3.10/dist-packages (from prompt-toolkit!=3.0.0,!=3.0.1,<3.1.0,>=2.0.0->ipython>=5.5.0->pycaret) (0.2.8)\n",
            "Requirement already satisfied: notebook>=4.4.1 in /usr/local/lib/python3.10/dist-packages (from widgetsnbextension~=3.6.0->ipywidgets>=7.6.5->pycaret) (6.5.5)\n",
            "Requirement already satisfied: platformdirs>=2.5 in /usr/local/lib/python3.10/dist-packages (from jupyter-core->nbformat>=4.2.0->pycaret) (3.11.0)\n",
            "Requirement already satisfied: itsdangerous>=2.0 in /usr/local/lib/python3.10/dist-packages (from Flask<3.1,>=1.0.4->dash<3.0.0,>=2.11.0->plotly-resampler>=0.8.3.1->pycaret) (2.1.2)\n",
            "Requirement already satisfied: click>=8.0 in /usr/local/lib/python3.10/dist-packages (from Flask<3.1,>=1.0.4->dash<3.0.0,>=2.11.0->plotly-resampler>=0.8.3.1->pycaret) (8.1.7)\n",
            "Requirement already satisfied: pyzmq<25,>=17 in /usr/local/lib/python3.10/dist-packages (from notebook>=4.4.1->widgetsnbextension~=3.6.0->ipywidgets>=7.6.5->pycaret) (23.2.1)\n",
            "Requirement already satisfied: argon2-cffi in /usr/local/lib/python3.10/dist-packages (from notebook>=4.4.1->widgetsnbextension~=3.6.0->ipywidgets>=7.6.5->pycaret) (23.1.0)\n",
            "Requirement already satisfied: nbconvert>=5 in /usr/local/lib/python3.10/dist-packages (from notebook>=4.4.1->widgetsnbextension~=3.6.0->ipywidgets>=7.6.5->pycaret) (6.5.4)\n",
            "Requirement already satisfied: Send2Trash>=1.8.0 in /usr/local/lib/python3.10/dist-packages (from notebook>=4.4.1->widgetsnbextension~=3.6.0->ipywidgets>=7.6.5->pycaret) (1.8.2)\n",
            "Requirement already satisfied: terminado>=0.8.3 in /usr/local/lib/python3.10/dist-packages (from notebook>=4.4.1->widgetsnbextension~=3.6.0->ipywidgets>=7.6.5->pycaret) (0.17.1)\n",
            "Requirement already satisfied: prometheus-client in /usr/local/lib/python3.10/dist-packages (from notebook>=4.4.1->widgetsnbextension~=3.6.0->ipywidgets>=7.6.5->pycaret) (0.17.1)\n",
            "Requirement already satisfied: nbclassic>=0.4.7 in /usr/local/lib/python3.10/dist-packages (from notebook>=4.4.1->widgetsnbextension~=3.6.0->ipywidgets>=7.6.5->pycaret) (1.0.0)\n",
            "Requirement already satisfied: jupyter-server>=1.8 in /usr/local/lib/python3.10/dist-packages (from nbclassic>=0.4.7->notebook>=4.4.1->widgetsnbextension~=3.6.0->ipywidgets>=7.6.5->pycaret) (1.24.0)\n",
            "Requirement already satisfied: notebook-shim>=0.2.3 in /usr/local/lib/python3.10/dist-packages (from nbclassic>=0.4.7->notebook>=4.4.1->widgetsnbextension~=3.6.0->ipywidgets>=7.6.5->pycaret) (0.2.3)\n",
            "Requirement already satisfied: lxml in /usr/local/lib/python3.10/dist-packages (from nbconvert>=5->notebook>=4.4.1->widgetsnbextension~=3.6.0->ipywidgets>=7.6.5->pycaret) (4.9.3)\n",
            "Requirement already satisfied: beautifulsoup4 in /usr/local/lib/python3.10/dist-packages (from nbconvert>=5->notebook>=4.4.1->widgetsnbextension~=3.6.0->ipywidgets>=7.6.5->pycaret) (4.11.2)\n",
            "Requirement already satisfied: bleach in /usr/local/lib/python3.10/dist-packages (from nbconvert>=5->notebook>=4.4.1->widgetsnbextension~=3.6.0->ipywidgets>=7.6.5->pycaret) (6.1.0)\n",
            "Requirement already satisfied: defusedxml in /usr/local/lib/python3.10/dist-packages (from nbconvert>=5->notebook>=4.4.1->widgetsnbextension~=3.6.0->ipywidgets>=7.6.5->pycaret) (0.7.1)\n",
            "Requirement already satisfied: entrypoints>=0.2.2 in /usr/local/lib/python3.10/dist-packages (from nbconvert>=5->notebook>=4.4.1->widgetsnbextension~=3.6.0->ipywidgets>=7.6.5->pycaret) (0.4)\n",
            "Requirement already satisfied: jupyterlab-pygments in /usr/local/lib/python3.10/dist-packages (from nbconvert>=5->notebook>=4.4.1->widgetsnbextension~=3.6.0->ipywidgets>=7.6.5->pycaret) (0.2.2)\n",
            "Requirement already satisfied: mistune<2,>=0.8.1 in /usr/local/lib/python3.10/dist-packages (from nbconvert>=5->notebook>=4.4.1->widgetsnbextension~=3.6.0->ipywidgets>=7.6.5->pycaret) (0.8.4)\n",
            "Requirement already satisfied: nbclient>=0.5.0 in /usr/local/lib/python3.10/dist-packages (from nbconvert>=5->notebook>=4.4.1->widgetsnbextension~=3.6.0->ipywidgets>=7.6.5->pycaret) (0.8.0)\n",
            "Requirement already satisfied: pandocfilters>=1.4.1 in /usr/local/lib/python3.10/dist-packages (from nbconvert>=5->notebook>=4.4.1->widgetsnbextension~=3.6.0->ipywidgets>=7.6.5->pycaret) (1.5.0)\n",
            "Requirement already satisfied: tinycss2 in /usr/local/lib/python3.10/dist-packages (from nbconvert>=5->notebook>=4.4.1->widgetsnbextension~=3.6.0->ipywidgets>=7.6.5->pycaret) (1.2.1)\n",
            "Requirement already satisfied: argon2-cffi-bindings in /usr/local/lib/python3.10/dist-packages (from argon2-cffi->notebook>=4.4.1->widgetsnbextension~=3.6.0->ipywidgets>=7.6.5->pycaret) (21.2.0)\n",
            "Requirement already satisfied: anyio<4,>=3.1.0 in /usr/local/lib/python3.10/dist-packages (from jupyter-server>=1.8->nbclassic>=0.4.7->notebook>=4.4.1->widgetsnbextension~=3.6.0->ipywidgets>=7.6.5->pycaret) (3.7.1)\n",
            "Requirement already satisfied: websocket-client in /usr/local/lib/python3.10/dist-packages (from jupyter-server>=1.8->nbclassic>=0.4.7->notebook>=4.4.1->widgetsnbextension~=3.6.0->ipywidgets>=7.6.5->pycaret) (1.6.4)\n",
            "Requirement already satisfied: cffi>=1.0.1 in /usr/local/lib/python3.10/dist-packages (from argon2-cffi-bindings->argon2-cffi->notebook>=4.4.1->widgetsnbextension~=3.6.0->ipywidgets>=7.6.5->pycaret) (1.16.0)\n",
            "Requirement already satisfied: soupsieve>1.2 in /usr/local/lib/python3.10/dist-packages (from beautifulsoup4->nbconvert>=5->notebook>=4.4.1->widgetsnbextension~=3.6.0->ipywidgets>=7.6.5->pycaret) (2.5)\n",
            "Requirement already satisfied: webencodings in /usr/local/lib/python3.10/dist-packages (from bleach->nbconvert>=5->notebook>=4.4.1->widgetsnbextension~=3.6.0->ipywidgets>=7.6.5->pycaret) (0.5.1)\n",
            "Requirement already satisfied: sniffio>=1.1 in /usr/local/lib/python3.10/dist-packages (from anyio<4,>=3.1.0->jupyter-server>=1.8->nbclassic>=0.4.7->notebook>=4.4.1->widgetsnbextension~=3.6.0->ipywidgets>=7.6.5->pycaret) (1.3.0)\n",
            "Requirement already satisfied: exceptiongroup in /usr/local/lib/python3.10/dist-packages (from anyio<4,>=3.1.0->jupyter-server>=1.8->nbclassic>=0.4.7->notebook>=4.4.1->widgetsnbextension~=3.6.0->ipywidgets>=7.6.5->pycaret) (1.1.3)\n",
            "Requirement already satisfied: pycparser in /usr/local/lib/python3.10/dist-packages (from cffi>=1.0.1->argon2-cffi-bindings->argon2-cffi->notebook>=4.4.1->widgetsnbextension~=3.6.0->ipywidgets>=7.6.5->pycaret) (2.21)\n",
            "Building wheels for collected packages: pyod\n",
            "  Building wheel for pyod (setup.py) ... \u001b[?25l\u001b[?25hdone\n",
            "  Created wheel for pyod: filename=pyod-1.1.1-py3-none-any.whl size=190074 sha256=707f6775ed379b420cf9084fd1cf98a4a8f1c4d55f5c12117ede613b877edb6b\n",
            "  Stored in directory: /root/.cache/pip/wheels/a3/42/d7/48a53ffc1466bd63932f28583c64ebf442114db14a0bfa8c95\n",
            "Successfully built pyod\n",
            "Installing collected packages: trace-updater, kaleido, dash-table, dash-html-components, dash-core-components, wurlitzer, tsdownsample, scipy, scikit-base, schemdraw, retrying, orjson, jedi, deprecation, deprecated, ansi2html, sktime, scikit-plot, pyod, dash, pmdarima, plotly-resampler, category-encoders, tbats, pycaret\n",
            "  Attempting uninstall: scipy\n",
            "    Found existing installation: scipy 1.11.3\n",
            "    Uninstalling scipy-1.11.3:\n",
            "      Successfully uninstalled scipy-1.11.3\n",
            "\u001b[31mERROR: pip's dependency resolver does not currently take into account all the packages that are installed. This behaviour is the source of the following dependency conflicts.\n",
            "lida 0.0.10 requires fastapi, which is not installed.\n",
            "lida 0.0.10 requires python-multipart, which is not installed.\n",
            "lida 0.0.10 requires uvicorn, which is not installed.\u001b[0m\u001b[31m\n",
            "\u001b[0mSuccessfully installed ansi2html-1.8.0 category-encoders-2.6.3 dash-2.14.1 dash-core-components-2.0.0 dash-html-components-2.0.0 dash-table-5.0.0 deprecated-1.2.14 deprecation-2.1.0 jedi-0.19.1 kaleido-0.2.1 orjson-3.9.10 plotly-resampler-0.9.1 pmdarima-2.0.4 pycaret-3.1.0 pyod-1.1.1 retrying-1.3.4 schemdraw-0.15 scikit-base-0.5.2 scikit-plot-0.3.7 scipy-1.10.1 sktime-0.21.1 tbats-1.1.3 trace-updater-0.0.9.1 tsdownsample-0.1.2 wurlitzer-3.0.3\n"
          ]
        }
      ]
    },
    {
      "cell_type": "code",
      "source": [
        "import pandas as pd"
      ],
      "metadata": {
        "id": "Q5udrItknC_7"
      },
      "execution_count": 7,
      "outputs": []
    },
    {
      "cell_type": "code",
      "source": [
        "data = pd.read_csv('car data (1).csv')\n",
        "\n",
        "data"
      ],
      "metadata": {
        "colab": {
          "base_uri": "https://localhost:8080/",
          "height": 423
        },
        "id": "rR6r3mmV7uYq",
        "outputId": "8e79d844-b881-4632-c80c-eb194c6cc8d6"
      },
      "execution_count": 8,
      "outputs": [
        {
          "output_type": "execute_result",
          "data": {
            "text/plain": [
              "    Car_Name  Year  Selling_Price  Present_Price  Kms_Driven Fuel_Type  \\\n",
              "0       ritz  2014           3.35           5.59       27000    Petrol   \n",
              "1        sx4  2013           4.75           9.54       43000    Diesel   \n",
              "2       ciaz  2017           7.25           9.85        6900    Petrol   \n",
              "3    wagon r  2011           2.85           4.15        5200    Petrol   \n",
              "4      swift  2014           4.60           6.87       42450    Diesel   \n",
              "..       ...   ...            ...            ...         ...       ...   \n",
              "296     city  2016           9.50          11.60       33988    Diesel   \n",
              "297     brio  2015           4.00           5.90       60000    Petrol   \n",
              "298     city  2009           3.35          11.00       87934    Petrol   \n",
              "299     city  2017          11.50          12.50        9000    Diesel   \n",
              "300     brio  2016           5.30           5.90        5464    Petrol   \n",
              "\n",
              "    Seller_Type Transmission  Owner  \n",
              "0        Dealer       Manual      0  \n",
              "1        Dealer       Manual      0  \n",
              "2        Dealer       Manual      0  \n",
              "3        Dealer       Manual      0  \n",
              "4        Dealer       Manual      0  \n",
              "..          ...          ...    ...  \n",
              "296      Dealer       Manual      0  \n",
              "297      Dealer       Manual      0  \n",
              "298      Dealer       Manual      0  \n",
              "299      Dealer       Manual      0  \n",
              "300      Dealer       Manual      0  \n",
              "\n",
              "[301 rows x 9 columns]"
            ],
            "text/html": [
              "\n",
              "  <div id=\"df-5a9bef20-a902-4382-885e-8feb14420793\" class=\"colab-df-container\">\n",
              "    <div>\n",
              "<style scoped>\n",
              "    .dataframe tbody tr th:only-of-type {\n",
              "        vertical-align: middle;\n",
              "    }\n",
              "\n",
              "    .dataframe tbody tr th {\n",
              "        vertical-align: top;\n",
              "    }\n",
              "\n",
              "    .dataframe thead th {\n",
              "        text-align: right;\n",
              "    }\n",
              "</style>\n",
              "<table border=\"1\" class=\"dataframe\">\n",
              "  <thead>\n",
              "    <tr style=\"text-align: right;\">\n",
              "      <th></th>\n",
              "      <th>Car_Name</th>\n",
              "      <th>Year</th>\n",
              "      <th>Selling_Price</th>\n",
              "      <th>Present_Price</th>\n",
              "      <th>Kms_Driven</th>\n",
              "      <th>Fuel_Type</th>\n",
              "      <th>Seller_Type</th>\n",
              "      <th>Transmission</th>\n",
              "      <th>Owner</th>\n",
              "    </tr>\n",
              "  </thead>\n",
              "  <tbody>\n",
              "    <tr>\n",
              "      <th>0</th>\n",
              "      <td>ritz</td>\n",
              "      <td>2014</td>\n",
              "      <td>3.35</td>\n",
              "      <td>5.59</td>\n",
              "      <td>27000</td>\n",
              "      <td>Petrol</td>\n",
              "      <td>Dealer</td>\n",
              "      <td>Manual</td>\n",
              "      <td>0</td>\n",
              "    </tr>\n",
              "    <tr>\n",
              "      <th>1</th>\n",
              "      <td>sx4</td>\n",
              "      <td>2013</td>\n",
              "      <td>4.75</td>\n",
              "      <td>9.54</td>\n",
              "      <td>43000</td>\n",
              "      <td>Diesel</td>\n",
              "      <td>Dealer</td>\n",
              "      <td>Manual</td>\n",
              "      <td>0</td>\n",
              "    </tr>\n",
              "    <tr>\n",
              "      <th>2</th>\n",
              "      <td>ciaz</td>\n",
              "      <td>2017</td>\n",
              "      <td>7.25</td>\n",
              "      <td>9.85</td>\n",
              "      <td>6900</td>\n",
              "      <td>Petrol</td>\n",
              "      <td>Dealer</td>\n",
              "      <td>Manual</td>\n",
              "      <td>0</td>\n",
              "    </tr>\n",
              "    <tr>\n",
              "      <th>3</th>\n",
              "      <td>wagon r</td>\n",
              "      <td>2011</td>\n",
              "      <td>2.85</td>\n",
              "      <td>4.15</td>\n",
              "      <td>5200</td>\n",
              "      <td>Petrol</td>\n",
              "      <td>Dealer</td>\n",
              "      <td>Manual</td>\n",
              "      <td>0</td>\n",
              "    </tr>\n",
              "    <tr>\n",
              "      <th>4</th>\n",
              "      <td>swift</td>\n",
              "      <td>2014</td>\n",
              "      <td>4.60</td>\n",
              "      <td>6.87</td>\n",
              "      <td>42450</td>\n",
              "      <td>Diesel</td>\n",
              "      <td>Dealer</td>\n",
              "      <td>Manual</td>\n",
              "      <td>0</td>\n",
              "    </tr>\n",
              "    <tr>\n",
              "      <th>...</th>\n",
              "      <td>...</td>\n",
              "      <td>...</td>\n",
              "      <td>...</td>\n",
              "      <td>...</td>\n",
              "      <td>...</td>\n",
              "      <td>...</td>\n",
              "      <td>...</td>\n",
              "      <td>...</td>\n",
              "      <td>...</td>\n",
              "    </tr>\n",
              "    <tr>\n",
              "      <th>296</th>\n",
              "      <td>city</td>\n",
              "      <td>2016</td>\n",
              "      <td>9.50</td>\n",
              "      <td>11.60</td>\n",
              "      <td>33988</td>\n",
              "      <td>Diesel</td>\n",
              "      <td>Dealer</td>\n",
              "      <td>Manual</td>\n",
              "      <td>0</td>\n",
              "    </tr>\n",
              "    <tr>\n",
              "      <th>297</th>\n",
              "      <td>brio</td>\n",
              "      <td>2015</td>\n",
              "      <td>4.00</td>\n",
              "      <td>5.90</td>\n",
              "      <td>60000</td>\n",
              "      <td>Petrol</td>\n",
              "      <td>Dealer</td>\n",
              "      <td>Manual</td>\n",
              "      <td>0</td>\n",
              "    </tr>\n",
              "    <tr>\n",
              "      <th>298</th>\n",
              "      <td>city</td>\n",
              "      <td>2009</td>\n",
              "      <td>3.35</td>\n",
              "      <td>11.00</td>\n",
              "      <td>87934</td>\n",
              "      <td>Petrol</td>\n",
              "      <td>Dealer</td>\n",
              "      <td>Manual</td>\n",
              "      <td>0</td>\n",
              "    </tr>\n",
              "    <tr>\n",
              "      <th>299</th>\n",
              "      <td>city</td>\n",
              "      <td>2017</td>\n",
              "      <td>11.50</td>\n",
              "      <td>12.50</td>\n",
              "      <td>9000</td>\n",
              "      <td>Diesel</td>\n",
              "      <td>Dealer</td>\n",
              "      <td>Manual</td>\n",
              "      <td>0</td>\n",
              "    </tr>\n",
              "    <tr>\n",
              "      <th>300</th>\n",
              "      <td>brio</td>\n",
              "      <td>2016</td>\n",
              "      <td>5.30</td>\n",
              "      <td>5.90</td>\n",
              "      <td>5464</td>\n",
              "      <td>Petrol</td>\n",
              "      <td>Dealer</td>\n",
              "      <td>Manual</td>\n",
              "      <td>0</td>\n",
              "    </tr>\n",
              "  </tbody>\n",
              "</table>\n",
              "<p>301 rows × 9 columns</p>\n",
              "</div>\n",
              "    <div class=\"colab-df-buttons\">\n",
              "\n",
              "  <div class=\"colab-df-container\">\n",
              "    <button class=\"colab-df-convert\" onclick=\"convertToInteractive('df-5a9bef20-a902-4382-885e-8feb14420793')\"\n",
              "            title=\"Convert this dataframe to an interactive table.\"\n",
              "            style=\"display:none;\">\n",
              "\n",
              "  <svg xmlns=\"http://www.w3.org/2000/svg\" height=\"24px\" viewBox=\"0 -960 960 960\">\n",
              "    <path d=\"M120-120v-720h720v720H120Zm60-500h600v-160H180v160Zm220 220h160v-160H400v160Zm0 220h160v-160H400v160ZM180-400h160v-160H180v160Zm440 0h160v-160H620v160ZM180-180h160v-160H180v160Zm440 0h160v-160H620v160Z\"/>\n",
              "  </svg>\n",
              "    </button>\n",
              "\n",
              "  <style>\n",
              "    .colab-df-container {\n",
              "      display:flex;\n",
              "      gap: 12px;\n",
              "    }\n",
              "\n",
              "    .colab-df-convert {\n",
              "      background-color: #E8F0FE;\n",
              "      border: none;\n",
              "      border-radius: 50%;\n",
              "      cursor: pointer;\n",
              "      display: none;\n",
              "      fill: #1967D2;\n",
              "      height: 32px;\n",
              "      padding: 0 0 0 0;\n",
              "      width: 32px;\n",
              "    }\n",
              "\n",
              "    .colab-df-convert:hover {\n",
              "      background-color: #E2EBFA;\n",
              "      box-shadow: 0px 1px 2px rgba(60, 64, 67, 0.3), 0px 1px 3px 1px rgba(60, 64, 67, 0.15);\n",
              "      fill: #174EA6;\n",
              "    }\n",
              "\n",
              "    .colab-df-buttons div {\n",
              "      margin-bottom: 4px;\n",
              "    }\n",
              "\n",
              "    [theme=dark] .colab-df-convert {\n",
              "      background-color: #3B4455;\n",
              "      fill: #D2E3FC;\n",
              "    }\n",
              "\n",
              "    [theme=dark] .colab-df-convert:hover {\n",
              "      background-color: #434B5C;\n",
              "      box-shadow: 0px 1px 3px 1px rgba(0, 0, 0, 0.15);\n",
              "      filter: drop-shadow(0px 1px 2px rgba(0, 0, 0, 0.3));\n",
              "      fill: #FFFFFF;\n",
              "    }\n",
              "  </style>\n",
              "\n",
              "    <script>\n",
              "      const buttonEl =\n",
              "        document.querySelector('#df-5a9bef20-a902-4382-885e-8feb14420793 button.colab-df-convert');\n",
              "      buttonEl.style.display =\n",
              "        google.colab.kernel.accessAllowed ? 'block' : 'none';\n",
              "\n",
              "      async function convertToInteractive(key) {\n",
              "        const element = document.querySelector('#df-5a9bef20-a902-4382-885e-8feb14420793');\n",
              "        const dataTable =\n",
              "          await google.colab.kernel.invokeFunction('convertToInteractive',\n",
              "                                                    [key], {});\n",
              "        if (!dataTable) return;\n",
              "\n",
              "        const docLinkHtml = 'Like what you see? Visit the ' +\n",
              "          '<a target=\"_blank\" href=https://colab.research.google.com/notebooks/data_table.ipynb>data table notebook</a>'\n",
              "          + ' to learn more about interactive tables.';\n",
              "        element.innerHTML = '';\n",
              "        dataTable['output_type'] = 'display_data';\n",
              "        await google.colab.output.renderOutput(dataTable, element);\n",
              "        const docLink = document.createElement('div');\n",
              "        docLink.innerHTML = docLinkHtml;\n",
              "        element.appendChild(docLink);\n",
              "      }\n",
              "    </script>\n",
              "  </div>\n",
              "\n",
              "\n",
              "<div id=\"df-de272b26-5f4c-479d-97cc-e95166ff8ddb\">\n",
              "  <button class=\"colab-df-quickchart\" onclick=\"quickchart('df-de272b26-5f4c-479d-97cc-e95166ff8ddb')\"\n",
              "            title=\"Suggest charts.\"\n",
              "            style=\"display:none;\">\n",
              "\n",
              "<svg xmlns=\"http://www.w3.org/2000/svg\" height=\"24px\"viewBox=\"0 0 24 24\"\n",
              "     width=\"24px\">\n",
              "    <g>\n",
              "        <path d=\"M19 3H5c-1.1 0-2 .9-2 2v14c0 1.1.9 2 2 2h14c1.1 0 2-.9 2-2V5c0-1.1-.9-2-2-2zM9 17H7v-7h2v7zm4 0h-2V7h2v10zm4 0h-2v-4h2v4z\"/>\n",
              "    </g>\n",
              "</svg>\n",
              "  </button>\n",
              "\n",
              "<style>\n",
              "  .colab-df-quickchart {\n",
              "      --bg-color: #E8F0FE;\n",
              "      --fill-color: #1967D2;\n",
              "      --hover-bg-color: #E2EBFA;\n",
              "      --hover-fill-color: #174EA6;\n",
              "      --disabled-fill-color: #AAA;\n",
              "      --disabled-bg-color: #DDD;\n",
              "  }\n",
              "\n",
              "  [theme=dark] .colab-df-quickchart {\n",
              "      --bg-color: #3B4455;\n",
              "      --fill-color: #D2E3FC;\n",
              "      --hover-bg-color: #434B5C;\n",
              "      --hover-fill-color: #FFFFFF;\n",
              "      --disabled-bg-color: #3B4455;\n",
              "      --disabled-fill-color: #666;\n",
              "  }\n",
              "\n",
              "  .colab-df-quickchart {\n",
              "    background-color: var(--bg-color);\n",
              "    border: none;\n",
              "    border-radius: 50%;\n",
              "    cursor: pointer;\n",
              "    display: none;\n",
              "    fill: var(--fill-color);\n",
              "    height: 32px;\n",
              "    padding: 0;\n",
              "    width: 32px;\n",
              "  }\n",
              "\n",
              "  .colab-df-quickchart:hover {\n",
              "    background-color: var(--hover-bg-color);\n",
              "    box-shadow: 0 1px 2px rgba(60, 64, 67, 0.3), 0 1px 3px 1px rgba(60, 64, 67, 0.15);\n",
              "    fill: var(--button-hover-fill-color);\n",
              "  }\n",
              "\n",
              "  .colab-df-quickchart-complete:disabled,\n",
              "  .colab-df-quickchart-complete:disabled:hover {\n",
              "    background-color: var(--disabled-bg-color);\n",
              "    fill: var(--disabled-fill-color);\n",
              "    box-shadow: none;\n",
              "  }\n",
              "\n",
              "  .colab-df-spinner {\n",
              "    border: 2px solid var(--fill-color);\n",
              "    border-color: transparent;\n",
              "    border-bottom-color: var(--fill-color);\n",
              "    animation:\n",
              "      spin 1s steps(1) infinite;\n",
              "  }\n",
              "\n",
              "  @keyframes spin {\n",
              "    0% {\n",
              "      border-color: transparent;\n",
              "      border-bottom-color: var(--fill-color);\n",
              "      border-left-color: var(--fill-color);\n",
              "    }\n",
              "    20% {\n",
              "      border-color: transparent;\n",
              "      border-left-color: var(--fill-color);\n",
              "      border-top-color: var(--fill-color);\n",
              "    }\n",
              "    30% {\n",
              "      border-color: transparent;\n",
              "      border-left-color: var(--fill-color);\n",
              "      border-top-color: var(--fill-color);\n",
              "      border-right-color: var(--fill-color);\n",
              "    }\n",
              "    40% {\n",
              "      border-color: transparent;\n",
              "      border-right-color: var(--fill-color);\n",
              "      border-top-color: var(--fill-color);\n",
              "    }\n",
              "    60% {\n",
              "      border-color: transparent;\n",
              "      border-right-color: var(--fill-color);\n",
              "    }\n",
              "    80% {\n",
              "      border-color: transparent;\n",
              "      border-right-color: var(--fill-color);\n",
              "      border-bottom-color: var(--fill-color);\n",
              "    }\n",
              "    90% {\n",
              "      border-color: transparent;\n",
              "      border-bottom-color: var(--fill-color);\n",
              "    }\n",
              "  }\n",
              "</style>\n",
              "\n",
              "  <script>\n",
              "    async function quickchart(key) {\n",
              "      const quickchartButtonEl =\n",
              "        document.querySelector('#' + key + ' button');\n",
              "      quickchartButtonEl.disabled = true;  // To prevent multiple clicks.\n",
              "      quickchartButtonEl.classList.add('colab-df-spinner');\n",
              "      try {\n",
              "        const charts = await google.colab.kernel.invokeFunction(\n",
              "            'suggestCharts', [key], {});\n",
              "      } catch (error) {\n",
              "        console.error('Error during call to suggestCharts:', error);\n",
              "      }\n",
              "      quickchartButtonEl.classList.remove('colab-df-spinner');\n",
              "      quickchartButtonEl.classList.add('colab-df-quickchart-complete');\n",
              "    }\n",
              "    (() => {\n",
              "      let quickchartButtonEl =\n",
              "        document.querySelector('#df-de272b26-5f4c-479d-97cc-e95166ff8ddb button');\n",
              "      quickchartButtonEl.style.display =\n",
              "        google.colab.kernel.accessAllowed ? 'block' : 'none';\n",
              "    })();\n",
              "  </script>\n",
              "</div>\n",
              "    </div>\n",
              "  </div>\n"
            ]
          },
          "metadata": {},
          "execution_count": 8
        }
      ]
    },
    {
      "cell_type": "code",
      "source": [
        "data.info()"
      ],
      "metadata": {
        "colab": {
          "base_uri": "https://localhost:8080/"
        },
        "id": "ePCxdDDO7ubs",
        "outputId": "4d3e2c39-18b9-435a-83a1-5ff0630f37ee"
      },
      "execution_count": 9,
      "outputs": [
        {
          "output_type": "stream",
          "name": "stdout",
          "text": [
            "<class 'pandas.core.frame.DataFrame'>\n",
            "RangeIndex: 301 entries, 0 to 300\n",
            "Data columns (total 9 columns):\n",
            " #   Column         Non-Null Count  Dtype  \n",
            "---  ------         --------------  -----  \n",
            " 0   Car_Name       301 non-null    object \n",
            " 1   Year           301 non-null    int64  \n",
            " 2   Selling_Price  301 non-null    float64\n",
            " 3   Present_Price  301 non-null    float64\n",
            " 4   Kms_Driven     301 non-null    int64  \n",
            " 5   Fuel_Type      301 non-null    object \n",
            " 6   Seller_Type    301 non-null    object \n",
            " 7   Transmission   301 non-null    object \n",
            " 8   Owner          301 non-null    int64  \n",
            "dtypes: float64(2), int64(3), object(4)\n",
            "memory usage: 21.3+ KB\n"
          ]
        }
      ]
    },
    {
      "cell_type": "code",
      "source": [
        "data.drop('Car_Name', axis=1, inplace=True)"
      ],
      "metadata": {
        "id": "K6NGrTKe7ufT"
      },
      "execution_count": 10,
      "outputs": []
    },
    {
      "cell_type": "code",
      "source": [
        "data.info()"
      ],
      "metadata": {
        "colab": {
          "base_uri": "https://localhost:8080/"
        },
        "id": "nWjRc_3_7uip",
        "outputId": "8978fce0-2378-4f7c-d5be-06c7442c22b3"
      },
      "execution_count": 11,
      "outputs": [
        {
          "output_type": "stream",
          "name": "stdout",
          "text": [
            "<class 'pandas.core.frame.DataFrame'>\n",
            "RangeIndex: 301 entries, 0 to 300\n",
            "Data columns (total 8 columns):\n",
            " #   Column         Non-Null Count  Dtype  \n",
            "---  ------         --------------  -----  \n",
            " 0   Year           301 non-null    int64  \n",
            " 1   Selling_Price  301 non-null    float64\n",
            " 2   Present_Price  301 non-null    float64\n",
            " 3   Kms_Driven     301 non-null    int64  \n",
            " 4   Fuel_Type      301 non-null    object \n",
            " 5   Seller_Type    301 non-null    object \n",
            " 6   Transmission   301 non-null    object \n",
            " 7   Owner          301 non-null    int64  \n",
            "dtypes: float64(2), int64(3), object(3)\n",
            "memory usage: 18.9+ KB\n"
          ]
        }
      ]
    },
    {
      "cell_type": "code",
      "source": [
        "data['Fuel_Type'].unique()"
      ],
      "metadata": {
        "colab": {
          "base_uri": "https://localhost:8080/"
        },
        "id": "i0_g-aRu7ulw",
        "outputId": "ba0d185f-9418-4aea-b4b7-44864af494da"
      },
      "execution_count": 12,
      "outputs": [
        {
          "output_type": "execute_result",
          "data": {
            "text/plain": [
              "array(['Petrol', 'Diesel', 'CNG'], dtype=object)"
            ]
          },
          "metadata": {},
          "execution_count": 12
        }
      ]
    },
    {
      "cell_type": "code",
      "source": [
        "data['Seller_Type'].unique()"
      ],
      "metadata": {
        "colab": {
          "base_uri": "https://localhost:8080/"
        },
        "id": "j9urn-kL8EJY",
        "outputId": "96d89323-6c98-41e6-ec5d-343f9f5c660c"
      },
      "execution_count": 13,
      "outputs": [
        {
          "output_type": "execute_result",
          "data": {
            "text/plain": [
              "array(['Dealer', 'Individual'], dtype=object)"
            ]
          },
          "metadata": {},
          "execution_count": 13
        }
      ]
    },
    {
      "cell_type": "code",
      "source": [
        "data['Transmission'].unique()"
      ],
      "metadata": {
        "colab": {
          "base_uri": "https://localhost:8080/"
        },
        "id": "jPMh8MSH8ENs",
        "outputId": "b366dd17-d32b-48b7-92b7-6e7ede92a7ef"
      },
      "execution_count": 14,
      "outputs": [
        {
          "output_type": "execute_result",
          "data": {
            "text/plain": [
              "array(['Manual', 'Automatic'], dtype=object)"
            ]
          },
          "metadata": {},
          "execution_count": 14
        }
      ]
    },
    {
      "cell_type": "code",
      "source": [
        "data['Owner'].value_counts()"
      ],
      "metadata": {
        "colab": {
          "base_uri": "https://localhost:8080/"
        },
        "id": "3YmSpo238ERD",
        "outputId": "cf92c0da-c435-4f1d-e19a-3cc548bafaa2"
      },
      "execution_count": 15,
      "outputs": [
        {
          "output_type": "execute_result",
          "data": {
            "text/plain": [
              "0    290\n",
              "1     10\n",
              "3      1\n",
              "Name: Owner, dtype: int64"
            ]
          },
          "metadata": {},
          "execution_count": 15
        }
      ]
    },
    {
      "cell_type": "code",
      "source": [
        "data['Present_Price'].describe()"
      ],
      "metadata": {
        "colab": {
          "base_uri": "https://localhost:8080/"
        },
        "id": "Vg1WgUhyHV7u",
        "outputId": "4aff6ade-e168-4a35-f947-0f07df078bd8"
      },
      "execution_count": 17,
      "outputs": [
        {
          "output_type": "execute_result",
          "data": {
            "text/plain": [
              "count    301.000000\n",
              "mean       7.628472\n",
              "std        8.644115\n",
              "min        0.320000\n",
              "25%        1.200000\n",
              "50%        6.400000\n",
              "75%        9.900000\n",
              "max       92.600000\n",
              "Name: Present_Price, dtype: float64"
            ]
          },
          "metadata": {},
          "execution_count": 17
        }
      ]
    },
    {
      "cell_type": "code",
      "source": [
        "import matplotlib.pyplot as plt\n",
        "import seaborn as sns\n",
        "f,ax = plt.subplots(figsize=(15,8))\n",
        "sns.distplot(data['Present_Price'])\n",
        "plt.xlim([0,160])"
      ],
      "metadata": {
        "colab": {
          "base_uri": "https://localhost:8080/",
          "height": 915
        },
        "id": "QhT7h_0IHA1E",
        "outputId": "cd9865b4-ce65-4e2e-a4f7-188f772ceb78"
      },
      "execution_count": 18,
      "outputs": [
        {
          "output_type": "stream",
          "name": "stderr",
          "text": [
            "<ipython-input-18-ed36d65be39b>:4: UserWarning: \n",
            "\n",
            "`distplot` is a deprecated function and will be removed in seaborn v0.14.0.\n",
            "\n",
            "Please adapt your code to use either `displot` (a figure-level function with\n",
            "similar flexibility) or `histplot` (an axes-level function for histograms).\n",
            "\n",
            "For a guide to updating your code to use the new functions, please see\n",
            "https://gist.github.com/mwaskom/de44147ed2974457ad6372750bbe5751\n",
            "\n",
            "  sns.distplot(data['Present_Price'])\n"
          ]
        },
        {
          "output_type": "execute_result",
          "data": {
            "text/plain": [
              "(0.0, 160.0)"
            ]
          },
          "metadata": {},
          "execution_count": 18
        },
        {
          "output_type": "display_data",
          "data": {
            "text/plain": [
              "<Figure size 1500x800 with 1 Axes>"
            ],
            "image/png": "[encoded data removed]"
          },
          "metadata": {}
        }
      ]
    },
    {
      "cell_type": "code",
      "source": [
        "data['Fuel_Type'].describe()"
      ],
      "metadata": {
        "colab": {
          "base_uri": "https://localhost:8080/"
        },
        "id": "2nuhujLSHA4M",
        "outputId": "bcbc6251-ee09-4674-edf3-0caeb9842f7e"
      },
      "execution_count": 19,
      "outputs": [
        {
          "output_type": "execute_result",
          "data": {
            "text/plain": [
              "count        301\n",
              "unique         3\n",
              "top       Petrol\n",
              "freq         239\n",
              "Name: Fuel_Type, dtype: object"
            ]
          },
          "metadata": {},
          "execution_count": 19
        }
      ]
    },
    {
      "cell_type": "code",
      "source": [
        "var = 'Fuel_Type'\n",
        "data = pd.concat([data['Present_Price'], data[var]], axis=1)\n",
        "f, ax = plt.subplots(figsize=(12, 8))\n",
        "fig = sns.boxplot(x=var, y=\"Present_Price\", data=data)\n",
        "fig.axis(ymin=0, ymax=165);"
      ],
      "metadata": {
        "colab": {
          "base_uri": "https://localhost:8080/",
          "height": 696
        },
        "id": "1vcPccGrHA7h",
        "outputId": "38a9086f-06a9-43a2-a808-d090ec0df206"
      },
      "execution_count": 20,
      "outputs": [
        {
          "output_type": "display_data",
          "data": {
            "text/plain": [
              "<Figure size 1200x800 with 1 Axes>"
            ],
            "image/png": "[encoded data removed]"
          },
          "metadata": {}
        }
      ]
    },
    {
      "cell_type": "code",
      "source": [
        "var = 'Fuel_Type'\n",
        "fig, ax = plt.subplots()\n",
        "fig.set_size_inches(11.7, 8.27)\n",
        "sns.swarmplot(x = var, y ='Present_Price', data = data)"
      ],
      "metadata": {
        "colab": {
          "base_uri": "https://localhost:8080/",
          "height": 828
        },
        "id": "R0yrsJUdHBBq",
        "outputId": "6c7d71f3-838d-402d-f1ca-dc8472a53926"
      },
      "execution_count": 21,
      "outputs": [
        {
          "output_type": "stream",
          "name": "stderr",
          "text": [
            "/usr/local/lib/python3.10/dist-packages/seaborn/categorical.py:3544: UserWarning: 13.4% of the points cannot be placed; you may want to decrease the size of the markers or use stripplot.\n",
            "  warnings.warn(msg, UserWarning)\n"
          ]
        },
        {
          "output_type": "execute_result",
          "data": {
            "text/plain": [
              "<Axes: xlabel='Fuel_Type', ylabel='Present_Price'>"
            ]
          },
          "metadata": {},
          "execution_count": 21
        },
        {
          "output_type": "stream",
          "name": "stderr",
          "text": [
            "/usr/local/lib/python3.10/dist-packages/seaborn/categorical.py:3544: UserWarning: 18.4% of the points cannot be placed; you may want to decrease the size of the markers or use stripplot.\n",
            "  warnings.warn(msg, UserWarning)\n"
          ]
        },
        {
          "output_type": "display_data",
          "data": {
            "text/plain": [
              "<Figure size 1170x827 with 1 Axes>"
            ],
            "image/png": "[encoded data removed]"
          },
          "metadata": {}
        }
      ]
    },
    {
      "cell_type": "code",
      "source": [
        "var = 'Fuel_Type'\n",
        "fig, ax = plt.subplots()\n",
        "fig.set_size_inches(11.7, 8.27)\n",
        "sns.stripplot(x = var, y ='Present_Price', data = data)"
      ],
      "metadata": {
        "colab": {
          "base_uri": "https://localhost:8080/",
          "height": 735
        },
        "id": "YQZ9Hex5H-C5",
        "outputId": "50a15320-0368-4336-ebd9-a57e7f347f0b"
      },
      "execution_count": 32,
      "outputs": [
        {
          "output_type": "execute_result",
          "data": {
            "text/plain": [
              "<Axes: xlabel='Fuel_Type', ylabel='Present_Price'>"
            ]
          },
          "metadata": {},
          "execution_count": 32
        },
        {
          "output_type": "display_data",
          "data": {
            "text/plain": [
              "<Figure size 1170x827 with 1 Axes>"
            ],
            "image/png": "[encoded data removed]"
          },
          "metadata": {}
        }
      ]
    },
    {
      "cell_type": "code",
      "source": [
        "var = \"Fuel_Type\"\n",
        "plt.figure(figsize=(20, 10))\n",
        "sns.catplot(x=var, kind=\"count\", palette=\"ch:.25\", height=8, aspect=2, data=data);\n",
        "plt.xticks(rotation=90);"
      ],
      "metadata": {
        "colab": {
          "base_uri": "https://localhost:8080/",
          "height": 851
        },
        "id": "ADc9hlcFH-Fp",
        "outputId": "e6753b2b-63e1-43b9-bda8-a0c437d30d26"
      },
      "execution_count": 36,
      "outputs": [
        {
          "output_type": "display_data",
          "data": {
            "text/plain": [
              "<Figure size 2000x1000 with 0 Axes>"
            ]
          },
          "metadata": {}
        },
        {
          "output_type": "display_data",
          "data": {
            "text/plain": [
              "<Figure size 1600x800 with 1 Axes>"
            ],
            "image/png": "[encoded data removed]"
          },
          "metadata": {}
        }
      ]
    },
    {
      "cell_type": "code",
      "source": [
        "#missing values\n",
        "data.isna().sum()"
      ],
      "metadata": {
        "colab": {
          "base_uri": "https://localhost:8080/"
        },
        "id": "ZEKCRXa6L21a",
        "outputId": "eaab5843-8ab3-4dc7-a304-71cd0a77ea01"
      },
      "execution_count": 46,
      "outputs": [
        {
          "output_type": "execute_result",
          "data": {
            "text/plain": [
              "Present_Price    0\n",
              "Fuel_Type        0\n",
              "dtype: int64"
            ]
          },
          "metadata": {},
          "execution_count": 46
        }
      ]
    },
    {
      "cell_type": "code",
      "source": [
        "fig = plt.figure(figsize=[15,8])\n",
        "ax1 = fig.add_subplot(121)\n",
        "sns.countplot(x=\"Present_Price\", data=data)\n",
        "plt.show()"
      ],
      "metadata": {
        "colab": {
          "base_uri": "https://localhost:8080/",
          "height": 696
        },
        "id": "xov2kArsLGMC",
        "outputId": "561af02e-ac26-472a-8972-43201a76c154"
      },
      "execution_count": 67,
      "outputs": [
        {
          "output_type": "display_data",
          "data": {
            "text/plain": [
              "<Figure size 1500x800 with 1 Axes>"
            ],
            "image/png": "[encoded data removed]"
          },
          "metadata": {}
        }
      ]
    },
    {
      "cell_type": "code",
      "source": [
        "fig = plt.figure(figsize=[15,6])\n",
        "ax1 = fig.add_subplot(121)\n",
        "ax1.title.set_text('Present_Price')\n",
        "sns.boxplot(x='Present_Price', data=data)\n",
        "plt.show()"
      ],
      "metadata": {
        "colab": {
          "base_uri": "https://localhost:8080/",
          "height": 564
        },
        "id": "yFuE0AgQHBFJ",
        "outputId": "de511d31-57e3-4bac-dead-eadc2ab1635e"
      },
      "execution_count": 77,
      "outputs": [
        {
          "output_type": "display_data",
          "data": {
            "text/plain": [
              "<Figure size 1500x600 with 1 Axes>"
            ],
            "image/png": "[encoded data removed]"
          },
          "metadata": {}
        }
      ]
    },
    {
      "cell_type": "code",
      "source": [
        "from sklearn.preprocessing import LabelEncoder"
      ],
      "metadata": {
        "id": "WvKlXBtA8EUx"
      },
      "execution_count": null,
      "outputs": []
    },
    {
      "cell_type": "code",
      "source": [
        "encoder = LabelEncoder()"
      ],
      "metadata": {
        "id": "Oi2aSjBu8EYv"
      },
      "execution_count": null,
      "outputs": []
    },
    {
      "cell_type": "code",
      "source": [
        "for col in data.columns:\n",
        "  if data[col].dtype == 'object':\n",
        "    data[col] = encoder.fit_transform(data[col])"
      ],
      "metadata": {
        "id": "C17N9Be77upS"
      },
      "execution_count": null,
      "outputs": []
    },
    {
      "cell_type": "code",
      "source": [
        "from pycaret.regression import *\n",
        "s = setup(data = data, target = 'Selling_Price', session_id=123)\n",
        "best = compare_models()"
      ],
      "metadata": {
        "colab": {
          "base_uri": "https://localhost:8080/",
          "height": 1000,
          "referenced_widgets": [
            "0596c7b8bd934b609f6f4fdbf42624b9",
            "53d06332ae4b486ebbd6130de1fa7f55",
            "e25c17a435e4483e818c0335eb6d31f5",
            "7ed73cfa80424cc18af1fddb807279a5",
            "c99402e1c3ec4159b719f3e7bf275dd3",
            "42d017b9c66d4852892c65a0f46985e7",
            "ec8cc717d53b4b52a3d6aa354edf4521",
            "28b4796a3c7a488c9948f8f9a68884bc",
            "5111e74fab0540d9af76a70275da8ced",
            "e27beab9ecb04038b199035d09c750a8",
            "72f27b08f5a5402ca1a78641b16ecbc8"
          ]
        },
        "id": "Ox7nxkJb8Vex",
        "outputId": "213d27cd-9b33-4745-c2ff-6f3d0160bd1c"
      },
      "execution_count": null,
      "outputs": [
        {
          "output_type": "display_data",
          "data": {
            "text/plain": [
              "<pandas.io.formats.style.Styler at 0x7b2841a9d3c0>"
            ],
            "text/html": [
              "<style type=\"text/css\">\n",
              "#T_58ba4_row8_col1 {\n",
              "  background-color: lightgreen;\n",
              "}\n",
              "</style>\n",
              "<table id=\"T_58ba4\" class=\"dataframe\">\n",
              "  <thead>\n",
              "    <tr>\n",
              "      <th class=\"blank level0\" >&nbsp;</th>\n",
              "      <th id=\"T_58ba4_level0_col0\" class=\"col_heading level0 col0\" >Description</th>\n",
              "      <th id=\"T_58ba4_level0_col1\" class=\"col_heading level0 col1\" >Value</th>\n",
              "    </tr>\n",
              "  </thead>\n",
              "  <tbody>\n",
              "    <tr>\n",
              "      <th id=\"T_58ba4_level0_row0\" class=\"row_heading level0 row0\" >0</th>\n",
              "      <td id=\"T_58ba4_row0_col0\" class=\"data row0 col0\" >Session id</td>\n",
              "      <td id=\"T_58ba4_row0_col1\" class=\"data row0 col1\" >123</td>\n",
              "    </tr>\n",
              "    <tr>\n",
              "      <th id=\"T_58ba4_level0_row1\" class=\"row_heading level0 row1\" >1</th>\n",
              "      <td id=\"T_58ba4_row1_col0\" class=\"data row1 col0\" >Target</td>\n",
              "      <td id=\"T_58ba4_row1_col1\" class=\"data row1 col1\" >Selling_Price</td>\n",
              "    </tr>\n",
              "    <tr>\n",
              "      <th id=\"T_58ba4_level0_row2\" class=\"row_heading level0 row2\" >2</th>\n",
              "      <td id=\"T_58ba4_row2_col0\" class=\"data row2 col0\" >Target type</td>\n",
              "      <td id=\"T_58ba4_row2_col1\" class=\"data row2 col1\" >Regression</td>\n",
              "    </tr>\n",
              "    <tr>\n",
              "      <th id=\"T_58ba4_level0_row3\" class=\"row_heading level0 row3\" >3</th>\n",
              "      <td id=\"T_58ba4_row3_col0\" class=\"data row3 col0\" >Original data shape</td>\n",
              "      <td id=\"T_58ba4_row3_col1\" class=\"data row3 col1\" >(301, 8)</td>\n",
              "    </tr>\n",
              "    <tr>\n",
              "      <th id=\"T_58ba4_level0_row4\" class=\"row_heading level0 row4\" >4</th>\n",
              "      <td id=\"T_58ba4_row4_col0\" class=\"data row4 col0\" >Transformed data shape</td>\n",
              "      <td id=\"T_58ba4_row4_col1\" class=\"data row4 col1\" >(301, 8)</td>\n",
              "    </tr>\n",
              "    <tr>\n",
              "      <th id=\"T_58ba4_level0_row5\" class=\"row_heading level0 row5\" >5</th>\n",
              "      <td id=\"T_58ba4_row5_col0\" class=\"data row5 col0\" >Transformed train set shape</td>\n",
              "      <td id=\"T_58ba4_row5_col1\" class=\"data row5 col1\" >(210, 8)</td>\n",
              "    </tr>\n",
              "    <tr>\n",
              "      <th id=\"T_58ba4_level0_row6\" class=\"row_heading level0 row6\" >6</th>\n",
              "      <td id=\"T_58ba4_row6_col0\" class=\"data row6 col0\" >Transformed test set shape</td>\n",
              "      <td id=\"T_58ba4_row6_col1\" class=\"data row6 col1\" >(91, 8)</td>\n",
              "    </tr>\n",
              "    <tr>\n",
              "      <th id=\"T_58ba4_level0_row7\" class=\"row_heading level0 row7\" >7</th>\n",
              "      <td id=\"T_58ba4_row7_col0\" class=\"data row7 col0\" >Numeric features</td>\n",
              "      <td id=\"T_58ba4_row7_col1\" class=\"data row7 col1\" >7</td>\n",
              "    </tr>\n",
              "    <tr>\n",
              "      <th id=\"T_58ba4_level0_row8\" class=\"row_heading level0 row8\" >8</th>\n",
              "      <td id=\"T_58ba4_row8_col0\" class=\"data row8 col0\" >Preprocess</td>\n",
              "      <td id=\"T_58ba4_row8_col1\" class=\"data row8 col1\" >True</td>\n",
              "    </tr>\n",
              "    <tr>\n",
              "      <th id=\"T_58ba4_level0_row9\" class=\"row_heading level0 row9\" >9</th>\n",
              "      <td id=\"T_58ba4_row9_col0\" class=\"data row9 col0\" >Imputation type</td>\n",
              "      <td id=\"T_58ba4_row9_col1\" class=\"data row9 col1\" >simple</td>\n",
              "    </tr>\n",
              "    <tr>\n",
              "      <th id=\"T_58ba4_level0_row10\" class=\"row_heading level0 row10\" >10</th>\n",
              "      <td id=\"T_58ba4_row10_col0\" class=\"data row10 col0\" >Numeric imputation</td>\n",
              "      <td id=\"T_58ba4_row10_col1\" class=\"data row10 col1\" >mean</td>\n",
              "    </tr>\n",
              "    <tr>\n",
              "      <th id=\"T_58ba4_level0_row11\" class=\"row_heading level0 row11\" >11</th>\n",
              "      <td id=\"T_58ba4_row11_col0\" class=\"data row11 col0\" >Categorical imputation</td>\n",
              "      <td id=\"T_58ba4_row11_col1\" class=\"data row11 col1\" >mode</td>\n",
              "    </tr>\n",
              "    <tr>\n",
              "      <th id=\"T_58ba4_level0_row12\" class=\"row_heading level0 row12\" >12</th>\n",
              "      <td id=\"T_58ba4_row12_col0\" class=\"data row12 col0\" >Fold Generator</td>\n",
              "      <td id=\"T_58ba4_row12_col1\" class=\"data row12 col1\" >KFold</td>\n",
              "    </tr>\n",
              "    <tr>\n",
              "      <th id=\"T_58ba4_level0_row13\" class=\"row_heading level0 row13\" >13</th>\n",
              "      <td id=\"T_58ba4_row13_col0\" class=\"data row13 col0\" >Fold Number</td>\n",
              "      <td id=\"T_58ba4_row13_col1\" class=\"data row13 col1\" >10</td>\n",
              "    </tr>\n",
              "    <tr>\n",
              "      <th id=\"T_58ba4_level0_row14\" class=\"row_heading level0 row14\" >14</th>\n",
              "      <td id=\"T_58ba4_row14_col0\" class=\"data row14 col0\" >CPU Jobs</td>\n",
              "      <td id=\"T_58ba4_row14_col1\" class=\"data row14 col1\" >-1</td>\n",
              "    </tr>\n",
              "    <tr>\n",
              "      <th id=\"T_58ba4_level0_row15\" class=\"row_heading level0 row15\" >15</th>\n",
              "      <td id=\"T_58ba4_row15_col0\" class=\"data row15 col0\" >Use GPU</td>\n",
              "      <td id=\"T_58ba4_row15_col1\" class=\"data row15 col1\" >False</td>\n",
              "    </tr>\n",
              "    <tr>\n",
              "      <th id=\"T_58ba4_level0_row16\" class=\"row_heading level0 row16\" >16</th>\n",
              "      <td id=\"T_58ba4_row16_col0\" class=\"data row16 col0\" >Log Experiment</td>\n",
              "      <td id=\"T_58ba4_row16_col1\" class=\"data row16 col1\" >False</td>\n",
              "    </tr>\n",
              "    <tr>\n",
              "      <th id=\"T_58ba4_level0_row17\" class=\"row_heading level0 row17\" >17</th>\n",
              "      <td id=\"T_58ba4_row17_col0\" class=\"data row17 col0\" >Experiment Name</td>\n",
              "      <td id=\"T_58ba4_row17_col1\" class=\"data row17 col1\" >reg-default-name</td>\n",
              "    </tr>\n",
              "    <tr>\n",
              "      <th id=\"T_58ba4_level0_row18\" class=\"row_heading level0 row18\" >18</th>\n",
              "      <td id=\"T_58ba4_row18_col0\" class=\"data row18 col0\" >USI</td>\n",
              "      <td id=\"T_58ba4_row18_col1\" class=\"data row18 col1\" >2230</td>\n",
              "    </tr>\n",
              "  </tbody>\n",
              "</table>\n"
            ]
          },
          "metadata": {}
        },
        {
          "output_type": "display_data",
          "data": {
            "text/plain": [
              "<IPython.core.display.HTML object>"
            ],
            "text/html": []
          },
          "metadata": {}
        },
        {
          "output_type": "display_data",
          "data": {
            "text/plain": [
              "<pandas.io.formats.style.Styler at 0x7b285bc83e20>"
            ],
            "text/html": [
              "<style type=\"text/css\">\n",
              "#T_d7576 th {\n",
              "  text-align: left;\n",
              "}\n",
              "#T_d7576_row0_col0, #T_d7576_row0_col6, #T_d7576_row1_col0, #T_d7576_row1_col1, #T_d7576_row1_col2, #T_d7576_row1_col3, #T_d7576_row1_col4, #T_d7576_row1_col5, #T_d7576_row2_col0, #T_d7576_row2_col1, #T_d7576_row2_col2, #T_d7576_row2_col3, #T_d7576_row2_col4, #T_d7576_row2_col5, #T_d7576_row2_col6, #T_d7576_row3_col0, #T_d7576_row3_col1, #T_d7576_row3_col2, #T_d7576_row3_col3, #T_d7576_row3_col4, #T_d7576_row3_col5, #T_d7576_row3_col6, #T_d7576_row4_col0, #T_d7576_row4_col1, #T_d7576_row4_col2, #T_d7576_row4_col3, #T_d7576_row4_col4, #T_d7576_row4_col5, #T_d7576_row4_col6, #T_d7576_row5_col0, #T_d7576_row5_col1, #T_d7576_row5_col2, #T_d7576_row5_col3, #T_d7576_row5_col4, #T_d7576_row5_col5, #T_d7576_row5_col6, #T_d7576_row6_col0, #T_d7576_row6_col1, #T_d7576_row6_col2, #T_d7576_row6_col3, #T_d7576_row6_col4, #T_d7576_row6_col5, #T_d7576_row6_col6, #T_d7576_row7_col0, #T_d7576_row7_col1, #T_d7576_row7_col2, #T_d7576_row7_col3, #T_d7576_row7_col4, #T_d7576_row7_col5, #T_d7576_row7_col6, #T_d7576_row8_col0, #T_d7576_row8_col1, #T_d7576_row8_col2, #T_d7576_row8_col3, #T_d7576_row8_col4, #T_d7576_row8_col5, #T_d7576_row8_col6, #T_d7576_row9_col0, #T_d7576_row9_col1, #T_d7576_row9_col2, #T_d7576_row9_col3, #T_d7576_row9_col4, #T_d7576_row9_col5, #T_d7576_row9_col6, #T_d7576_row10_col0, #T_d7576_row10_col1, #T_d7576_row10_col2, #T_d7576_row10_col3, #T_d7576_row10_col4, #T_d7576_row10_col5, #T_d7576_row10_col6, #T_d7576_row11_col0, #T_d7576_row11_col1, #T_d7576_row11_col2, #T_d7576_row11_col3, #T_d7576_row11_col4, #T_d7576_row11_col5, #T_d7576_row11_col6, #T_d7576_row12_col0, #T_d7576_row12_col1, #T_d7576_row12_col2, #T_d7576_row12_col3, #T_d7576_row12_col4, #T_d7576_row12_col5, #T_d7576_row12_col6, #T_d7576_row13_col0, #T_d7576_row13_col1, #T_d7576_row13_col2, #T_d7576_row13_col3, #T_d7576_row13_col4, #T_d7576_row13_col5, #T_d7576_row13_col6, #T_d7576_row14_col0, #T_d7576_row14_col1, #T_d7576_row14_col2, #T_d7576_row14_col3, #T_d7576_row14_col4, #T_d7576_row14_col5, #T_d7576_row14_col6, #T_d7576_row15_col0, #T_d7576_row15_col1, #T_d7576_row15_col2, #T_d7576_row15_col3, #T_d7576_row15_col4, #T_d7576_row15_col5, #T_d7576_row15_col6, #T_d7576_row16_col0, #T_d7576_row16_col1, #T_d7576_row16_col2, #T_d7576_row16_col3, #T_d7576_row16_col4, #T_d7576_row16_col5, #T_d7576_row16_col6, #T_d7576_row17_col0, #T_d7576_row17_col1, #T_d7576_row17_col2, #T_d7576_row17_col3, #T_d7576_row17_col4, #T_d7576_row17_col5, #T_d7576_row17_col6, #T_d7576_row18_col0, #T_d7576_row18_col1, #T_d7576_row18_col2, #T_d7576_row18_col3, #T_d7576_row18_col4, #T_d7576_row18_col5, #T_d7576_row18_col6 {\n",
              "  text-align: left;\n",
              "}\n",
              "#T_d7576_row0_col1, #T_d7576_row0_col2, #T_d7576_row0_col3, #T_d7576_row0_col4, #T_d7576_row0_col5, #T_d7576_row1_col6 {\n",
              "  text-align: left;\n",
              "  background-color: yellow;\n",
              "}\n",
              "#T_d7576_row0_col7, #T_d7576_row1_col7, #T_d7576_row2_col7, #T_d7576_row3_col7, #T_d7576_row4_col7, #T_d7576_row5_col7, #T_d7576_row6_col7, #T_d7576_row7_col7, #T_d7576_row8_col7, #T_d7576_row9_col7, #T_d7576_row10_col7, #T_d7576_row11_col7, #T_d7576_row12_col7, #T_d7576_row13_col7, #T_d7576_row14_col7, #T_d7576_row15_col7, #T_d7576_row17_col7, #T_d7576_row18_col7 {\n",
              "  text-align: left;\n",
              "  background-color: lightgrey;\n",
              "}\n",
              "#T_d7576_row16_col7 {\n",
              "  text-align: left;\n",
              "  background-color: yellow;\n",
              "  background-color: lightgrey;\n",
              "}\n",
              "</style>\n",
              "<table id=\"T_d7576\" class=\"dataframe\">\n",
              "  <thead>\n",
              "    <tr>\n",
              "      <th class=\"blank level0\" >&nbsp;</th>\n",
              "      <th id=\"T_d7576_level0_col0\" class=\"col_heading level0 col0\" >Model</th>\n",
              "      <th id=\"T_d7576_level0_col1\" class=\"col_heading level0 col1\" >MAE</th>\n",
              "      <th id=\"T_d7576_level0_col2\" class=\"col_heading level0 col2\" >MSE</th>\n",
              "      <th id=\"T_d7576_level0_col3\" class=\"col_heading level0 col3\" >RMSE</th>\n",
              "      <th id=\"T_d7576_level0_col4\" class=\"col_heading level0 col4\" >R2</th>\n",
              "      <th id=\"T_d7576_level0_col5\" class=\"col_heading level0 col5\" >RMSLE</th>\n",
              "      <th id=\"T_d7576_level0_col6\" class=\"col_heading level0 col6\" >MAPE</th>\n",
              "      <th id=\"T_d7576_level0_col7\" class=\"col_heading level0 col7\" >TT (Sec)</th>\n",
              "    </tr>\n",
              "  </thead>\n",
              "  <tbody>\n",
              "    <tr>\n",
              "      <th id=\"T_d7576_level0_row0\" class=\"row_heading level0 row0\" >xgboost</th>\n",
              "      <td id=\"T_d7576_row0_col0\" class=\"data row0 col0\" >Extreme Gradient Boosting</td>\n",
              "      <td id=\"T_d7576_row0_col1\" class=\"data row0 col1\" >0.7076</td>\n",
              "      <td id=\"T_d7576_row0_col2\" class=\"data row0 col2\" >3.1121</td>\n",
              "      <td id=\"T_d7576_row0_col3\" class=\"data row0 col3\" >1.4489</td>\n",
              "      <td id=\"T_d7576_row0_col4\" class=\"data row0 col4\" >0.8970</td>\n",
              "      <td id=\"T_d7576_row0_col5\" class=\"data row0 col5\" >0.1525</td>\n",
              "      <td id=\"T_d7576_row0_col6\" class=\"data row0 col6\" >0.1957</td>\n",
              "      <td id=\"T_d7576_row0_col7\" class=\"data row0 col7\" >0.0620</td>\n",
              "    </tr>\n",
              "    <tr>\n",
              "      <th id=\"T_d7576_level0_row1\" class=\"row_heading level0 row1\" >et</th>\n",
              "      <td id=\"T_d7576_row1_col0\" class=\"data row1 col0\" >Extra Trees Regressor</td>\n",
              "      <td id=\"T_d7576_row1_col1\" class=\"data row1 col1\" >0.7343</td>\n",
              "      <td id=\"T_d7576_row1_col2\" class=\"data row1 col2\" >3.6447</td>\n",
              "      <td id=\"T_d7576_row1_col3\" class=\"data row1 col3\" >1.5872</td>\n",
              "      <td id=\"T_d7576_row1_col4\" class=\"data row1 col4\" >0.8879</td>\n",
              "      <td id=\"T_d7576_row1_col5\" class=\"data row1 col5\" >0.1658</td>\n",
              "      <td id=\"T_d7576_row1_col6\" class=\"data row1 col6\" >0.1799</td>\n",
              "      <td id=\"T_d7576_row1_col7\" class=\"data row1 col7\" >0.1400</td>\n",
              "    </tr>\n",
              "    <tr>\n",
              "      <th id=\"T_d7576_level0_row2\" class=\"row_heading level0 row2\" >gbr</th>\n",
              "      <td id=\"T_d7576_row2_col0\" class=\"data row2 col0\" >Gradient Boosting Regressor</td>\n",
              "      <td id=\"T_d7576_row2_col1\" class=\"data row2 col1\" >0.7611</td>\n",
              "      <td id=\"T_d7576_row2_col2\" class=\"data row2 col2\" >4.2800</td>\n",
              "      <td id=\"T_d7576_row2_col3\" class=\"data row2 col3\" >1.5929</td>\n",
              "      <td id=\"T_d7576_row2_col4\" class=\"data row2 col4\" >0.8709</td>\n",
              "      <td id=\"T_d7576_row2_col5\" class=\"data row2 col5\" >0.1649</td>\n",
              "      <td id=\"T_d7576_row2_col6\" class=\"data row2 col6\" >0.2120</td>\n",
              "      <td id=\"T_d7576_row2_col7\" class=\"data row2 col7\" >0.0620</td>\n",
              "    </tr>\n",
              "    <tr>\n",
              "      <th id=\"T_d7576_level0_row3\" class=\"row_heading level0 row3\" >rf</th>\n",
              "      <td id=\"T_d7576_row3_col0\" class=\"data row3 col0\" >Random Forest Regressor</td>\n",
              "      <td id=\"T_d7576_row3_col1\" class=\"data row3 col1\" >0.7805</td>\n",
              "      <td id=\"T_d7576_row3_col2\" class=\"data row3 col2\" >3.7401</td>\n",
              "      <td id=\"T_d7576_row3_col3\" class=\"data row3 col3\" >1.6335</td>\n",
              "      <td id=\"T_d7576_row3_col4\" class=\"data row3 col4\" >0.8445</td>\n",
              "      <td id=\"T_d7576_row3_col5\" class=\"data row3 col5\" >0.1604</td>\n",
              "      <td id=\"T_d7576_row3_col6\" class=\"data row3 col6\" >0.1963</td>\n",
              "      <td id=\"T_d7576_row3_col7\" class=\"data row3 col7\" >0.3010</td>\n",
              "    </tr>\n",
              "    <tr>\n",
              "      <th id=\"T_d7576_level0_row4\" class=\"row_heading level0 row4\" >br</th>\n",
              "      <td id=\"T_d7576_row4_col0\" class=\"data row4 col0\" >Bayesian Ridge</td>\n",
              "      <td id=\"T_d7576_row4_col1\" class=\"data row4 col1\" >1.1933</td>\n",
              "      <td id=\"T_d7576_row4_col2\" class=\"data row4 col2\" >4.7346</td>\n",
              "      <td id=\"T_d7576_row4_col3\" class=\"data row4 col3\" >2.0049</td>\n",
              "      <td id=\"T_d7576_row4_col4\" class=\"data row4 col4\" >0.8282</td>\n",
              "      <td id=\"T_d7576_row4_col5\" class=\"data row4 col5\" >0.3330</td>\n",
              "      <td id=\"T_d7576_row4_col6\" class=\"data row4 col6\" >1.1020</td>\n",
              "      <td id=\"T_d7576_row4_col7\" class=\"data row4 col7\" >0.0190</td>\n",
              "    </tr>\n",
              "    <tr>\n",
              "      <th id=\"T_d7576_level0_row5\" class=\"row_heading level0 row5\" >ridge</th>\n",
              "      <td id=\"T_d7576_row5_col0\" class=\"data row5 col0\" >Ridge Regression</td>\n",
              "      <td id=\"T_d7576_row5_col1\" class=\"data row5 col1\" >1.2045</td>\n",
              "      <td id=\"T_d7576_row5_col2\" class=\"data row5 col2\" >4.6691</td>\n",
              "      <td id=\"T_d7576_row5_col3\" class=\"data row5 col3\" >2.0024</td>\n",
              "      <td id=\"T_d7576_row5_col4\" class=\"data row5 col4\" >0.8265</td>\n",
              "      <td id=\"T_d7576_row5_col5\" class=\"data row5 col5\" >0.3328</td>\n",
              "      <td id=\"T_d7576_row5_col6\" class=\"data row5 col6\" >1.1238</td>\n",
              "      <td id=\"T_d7576_row5_col7\" class=\"data row5 col7\" >0.0190</td>\n",
              "    </tr>\n",
              "    <tr>\n",
              "      <th id=\"T_d7576_level0_row6\" class=\"row_heading level0 row6\" >lr</th>\n",
              "      <td id=\"T_d7576_row6_col0\" class=\"data row6 col0\" >Linear Regression</td>\n",
              "      <td id=\"T_d7576_row6_col1\" class=\"data row6 col1\" >1.2147</td>\n",
              "      <td id=\"T_d7576_row6_col2\" class=\"data row6 col2\" >4.6753</td>\n",
              "      <td id=\"T_d7576_row6_col3\" class=\"data row6 col3\" >2.0085</td>\n",
              "      <td id=\"T_d7576_row6_col4\" class=\"data row6 col4\" >0.8239</td>\n",
              "      <td id=\"T_d7576_row6_col5\" class=\"data row6 col5\" >0.3339</td>\n",
              "      <td id=\"T_d7576_row6_col6\" class=\"data row6 col6\" >1.1392</td>\n",
              "      <td id=\"T_d7576_row6_col7\" class=\"data row6 col7\" >0.4700</td>\n",
              "    </tr>\n",
              "    <tr>\n",
              "      <th id=\"T_d7576_level0_row7\" class=\"row_heading level0 row7\" >lar</th>\n",
              "      <td id=\"T_d7576_row7_col0\" class=\"data row7 col0\" >Least Angle Regression</td>\n",
              "      <td id=\"T_d7576_row7_col1\" class=\"data row7 col1\" >1.2105</td>\n",
              "      <td id=\"T_d7576_row7_col2\" class=\"data row7 col2\" >5.2585</td>\n",
              "      <td id=\"T_d7576_row7_col3\" class=\"data row7 col3\" >2.0518</td>\n",
              "      <td id=\"T_d7576_row7_col4\" class=\"data row7 col4\" >0.8197</td>\n",
              "      <td id=\"T_d7576_row7_col5\" class=\"data row7 col5\" >0.3316</td>\n",
              "      <td id=\"T_d7576_row7_col6\" class=\"data row7 col6\" >1.1291</td>\n",
              "      <td id=\"T_d7576_row7_col7\" class=\"data row7 col7\" >0.0200</td>\n",
              "    </tr>\n",
              "    <tr>\n",
              "      <th id=\"T_d7576_level0_row8\" class=\"row_heading level0 row8\" >ada</th>\n",
              "      <td id=\"T_d7576_row8_col0\" class=\"data row8 col0\" >AdaBoost Regressor</td>\n",
              "      <td id=\"T_d7576_row8_col1\" class=\"data row8 col1\" >1.1149</td>\n",
              "      <td id=\"T_d7576_row8_col2\" class=\"data row8 col2\" >5.0509</td>\n",
              "      <td id=\"T_d7576_row8_col3\" class=\"data row8 col3\" >1.9419</td>\n",
              "      <td id=\"T_d7576_row8_col4\" class=\"data row8 col4\" >0.8146</td>\n",
              "      <td id=\"T_d7576_row8_col5\" class=\"data row8 col5\" >0.2921</td>\n",
              "      <td id=\"T_d7576_row8_col6\" class=\"data row8 col6\" >0.7470</td>\n",
              "      <td id=\"T_d7576_row8_col7\" class=\"data row8 col7\" >0.0780</td>\n",
              "    </tr>\n",
              "    <tr>\n",
              "      <th id=\"T_d7576_level0_row9\" class=\"row_heading level0 row9\" >en</th>\n",
              "      <td id=\"T_d7576_row9_col0\" class=\"data row9 col0\" >Elastic Net</td>\n",
              "      <td id=\"T_d7576_row9_col1\" class=\"data row9 col1\" >1.3135</td>\n",
              "      <td id=\"T_d7576_row9_col2\" class=\"data row9 col2\" >5.6397</td>\n",
              "      <td id=\"T_d7576_row9_col3\" class=\"data row9 col3\" >2.1510</td>\n",
              "      <td id=\"T_d7576_row9_col4\" class=\"data row9 col4\" >0.8120</td>\n",
              "      <td id=\"T_d7576_row9_col5\" class=\"data row9 col5\" >0.3625</td>\n",
              "      <td id=\"T_d7576_row9_col6\" class=\"data row9 col6\" >1.0018</td>\n",
              "      <td id=\"T_d7576_row9_col7\" class=\"data row9 col7\" >0.0200</td>\n",
              "    </tr>\n",
              "    <tr>\n",
              "      <th id=\"T_d7576_level0_row10\" class=\"row_heading level0 row10\" >lightgbm</th>\n",
              "      <td id=\"T_d7576_row10_col0\" class=\"data row10 col0\" >Light Gradient Boosting Machine</td>\n",
              "      <td id=\"T_d7576_row10_col1\" class=\"data row10 col1\" >1.1871</td>\n",
              "      <td id=\"T_d7576_row10_col2\" class=\"data row10 col2\" >6.4789</td>\n",
              "      <td id=\"T_d7576_row10_col3\" class=\"data row10 col3\" >2.2082</td>\n",
              "      <td id=\"T_d7576_row10_col4\" class=\"data row10 col4\" >0.8073</td>\n",
              "      <td id=\"T_d7576_row10_col5\" class=\"data row10 col5\" >0.2615</td>\n",
              "      <td id=\"T_d7576_row10_col6\" class=\"data row10 col6\" >0.4090</td>\n",
              "      <td id=\"T_d7576_row10_col7\" class=\"data row10 col7\" >0.4840</td>\n",
              "    </tr>\n",
              "    <tr>\n",
              "      <th id=\"T_d7576_level0_row11\" class=\"row_heading level0 row11\" >lasso</th>\n",
              "      <td id=\"T_d7576_row11_col0\" class=\"data row11 col0\" >Lasso Regression</td>\n",
              "      <td id=\"T_d7576_row11_col1\" class=\"data row11 col1\" >1.3546</td>\n",
              "      <td id=\"T_d7576_row11_col2\" class=\"data row11 col2\" >5.8499</td>\n",
              "      <td id=\"T_d7576_row11_col3\" class=\"data row11 col3\" >2.1865</td>\n",
              "      <td id=\"T_d7576_row11_col4\" class=\"data row11 col4\" >0.8065</td>\n",
              "      <td id=\"T_d7576_row11_col5\" class=\"data row11 col5\" >0.3579</td>\n",
              "      <td id=\"T_d7576_row11_col6\" class=\"data row11 col6\" >0.9818</td>\n",
              "      <td id=\"T_d7576_row11_col7\" class=\"data row11 col7\" >0.0190</td>\n",
              "    </tr>\n",
              "    <tr>\n",
              "      <th id=\"T_d7576_level0_row12\" class=\"row_heading level0 row12\" >llar</th>\n",
              "      <td id=\"T_d7576_row12_col0\" class=\"data row12 col0\" >Lasso Least Angle Regression</td>\n",
              "      <td id=\"T_d7576_row12_col1\" class=\"data row12 col1\" >1.3546</td>\n",
              "      <td id=\"T_d7576_row12_col2\" class=\"data row12 col2\" >5.8502</td>\n",
              "      <td id=\"T_d7576_row12_col3\" class=\"data row12 col3\" >2.1866</td>\n",
              "      <td id=\"T_d7576_row12_col4\" class=\"data row12 col4\" >0.8065</td>\n",
              "      <td id=\"T_d7576_row12_col5\" class=\"data row12 col5\" >0.3579</td>\n",
              "      <td id=\"T_d7576_row12_col6\" class=\"data row12 col6\" >0.9818</td>\n",
              "      <td id=\"T_d7576_row12_col7\" class=\"data row12 col7\" >0.0180</td>\n",
              "    </tr>\n",
              "    <tr>\n",
              "      <th id=\"T_d7576_level0_row13\" class=\"row_heading level0 row13\" >huber</th>\n",
              "      <td id=\"T_d7576_row13_col0\" class=\"data row13 col0\" >Huber Regressor</td>\n",
              "      <td id=\"T_d7576_row13_col1\" class=\"data row13 col1\" >1.3039</td>\n",
              "      <td id=\"T_d7576_row13_col2\" class=\"data row13 col2\" >6.1388</td>\n",
              "      <td id=\"T_d7576_row13_col3\" class=\"data row13 col3\" >2.1964</td>\n",
              "      <td id=\"T_d7576_row13_col4\" class=\"data row13 col4\" >0.7878</td>\n",
              "      <td id=\"T_d7576_row13_col5\" class=\"data row13 col5\" >0.2829</td>\n",
              "      <td id=\"T_d7576_row13_col6\" class=\"data row13 col6\" >0.6930</td>\n",
              "      <td id=\"T_d7576_row13_col7\" class=\"data row13 col7\" >0.0390</td>\n",
              "    </tr>\n",
              "    <tr>\n",
              "      <th id=\"T_d7576_level0_row14\" class=\"row_heading level0 row14\" >dt</th>\n",
              "      <td id=\"T_d7576_row14_col0\" class=\"data row14 col0\" >Decision Tree Regressor</td>\n",
              "      <td id=\"T_d7576_row14_col1\" class=\"data row14 col1\" >0.9818</td>\n",
              "      <td id=\"T_d7576_row14_col2\" class=\"data row14 col2\" >6.5178</td>\n",
              "      <td id=\"T_d7576_row14_col3\" class=\"data row14 col3\" >2.0842</td>\n",
              "      <td id=\"T_d7576_row14_col4\" class=\"data row14 col4\" >0.7468</td>\n",
              "      <td id=\"T_d7576_row14_col5\" class=\"data row14 col5\" >0.2079</td>\n",
              "      <td id=\"T_d7576_row14_col6\" class=\"data row14 col6\" >0.2450</td>\n",
              "      <td id=\"T_d7576_row14_col7\" class=\"data row14 col7\" >0.0780</td>\n",
              "    </tr>\n",
              "    <tr>\n",
              "      <th id=\"T_d7576_level0_row15\" class=\"row_heading level0 row15\" >omp</th>\n",
              "      <td id=\"T_d7576_row15_col0\" class=\"data row15 col0\" >Orthogonal Matching Pursuit</td>\n",
              "      <td id=\"T_d7576_row15_col1\" class=\"data row15 col1\" >3.6851</td>\n",
              "      <td id=\"T_d7576_row15_col2\" class=\"data row15 col2\" >29.5930</td>\n",
              "      <td id=\"T_d7576_row15_col3\" class=\"data row15 col3\" >5.2298</td>\n",
              "      <td id=\"T_d7576_row15_col4\" class=\"data row15 col4\" >-0.0768</td>\n",
              "      <td id=\"T_d7576_row15_col5\" class=\"data row15 col5\" >0.8668</td>\n",
              "      <td id=\"T_d7576_row15_col6\" class=\"data row15 col6\" >3.6431</td>\n",
              "      <td id=\"T_d7576_row15_col7\" class=\"data row15 col7\" >0.0180</td>\n",
              "    </tr>\n",
              "    <tr>\n",
              "      <th id=\"T_d7576_level0_row16\" class=\"row_heading level0 row16\" >dummy</th>\n",
              "      <td id=\"T_d7576_row16_col0\" class=\"data row16 col0\" >Dummy Regressor</td>\n",
              "      <td id=\"T_d7576_row16_col1\" class=\"data row16 col1\" >3.6416</td>\n",
              "      <td id=\"T_d7576_row16_col2\" class=\"data row16 col2\" >29.4982</td>\n",
              "      <td id=\"T_d7576_row16_col3\" class=\"data row16 col3\" >5.2267</td>\n",
              "      <td id=\"T_d7576_row16_col4\" class=\"data row16 col4\" >-0.0786</td>\n",
              "      <td id=\"T_d7576_row16_col5\" class=\"data row16 col5\" >0.8758</td>\n",
              "      <td id=\"T_d7576_row16_col6\" class=\"data row16 col6\" >3.6718</td>\n",
              "      <td id=\"T_d7576_row16_col7\" class=\"data row16 col7\" >0.0160</td>\n",
              "    </tr>\n",
              "    <tr>\n",
              "      <th id=\"T_d7576_level0_row17\" class=\"row_heading level0 row17\" >knn</th>\n",
              "      <td id=\"T_d7576_row17_col0\" class=\"data row17 col0\" >K Neighbors Regressor</td>\n",
              "      <td id=\"T_d7576_row17_col1\" class=\"data row17 col1\" >4.0053</td>\n",
              "      <td id=\"T_d7576_row17_col2\" class=\"data row17 col2\" >33.7750</td>\n",
              "      <td id=\"T_d7576_row17_col3\" class=\"data row17 col3\" >5.6662</td>\n",
              "      <td id=\"T_d7576_row17_col4\" class=\"data row17 col4\" >-0.3433</td>\n",
              "      <td id=\"T_d7576_row17_col5\" class=\"data row17 col5\" >0.9048</td>\n",
              "      <td id=\"T_d7576_row17_col6\" class=\"data row17 col6\" >3.7212</td>\n",
              "      <td id=\"T_d7576_row17_col7\" class=\"data row17 col7\" >0.1020</td>\n",
              "    </tr>\n",
              "    <tr>\n",
              "      <th id=\"T_d7576_level0_row18\" class=\"row_heading level0 row18\" >par</th>\n",
              "      <td id=\"T_d7576_row18_col0\" class=\"data row18 col0\" >Passive Aggressive Regressor</td>\n",
              "      <td id=\"T_d7576_row18_col1\" class=\"data row18 col1\" >4.7195</td>\n",
              "      <td id=\"T_d7576_row18_col2\" class=\"data row18 col2\" >51.1545</td>\n",
              "      <td id=\"T_d7576_row18_col3\" class=\"data row18 col3\" >6.4557</td>\n",
              "      <td id=\"T_d7576_row18_col4\" class=\"data row18 col4\" >-0.8823</td>\n",
              "      <td id=\"T_d7576_row18_col5\" class=\"data row18 col5\" >0.9714</td>\n",
              "      <td id=\"T_d7576_row18_col6\" class=\"data row18 col6\" >4.3401</td>\n",
              "      <td id=\"T_d7576_row18_col7\" class=\"data row18 col7\" >0.0200</td>\n",
              "    </tr>\n",
              "  </tbody>\n",
              "</table>\n"
            ]
          },
          "metadata": {}
        },
        {
          "output_type": "display_data",
          "data": {
            "text/plain": [
              "Processing:   0%|          | 0/81 [00:00<?, ?it/s]"
            ],
            "application/vnd.jupyter.widget-view+json": {
              "version_major": 2,
              "version_minor": 0,
              "model_id": "0596c7b8bd934b609f6f4fdbf42624b9"
            }
          },
          "metadata": {
            "application/vnd.jupyter.widget-view+json": {
              "colab": {
                "custom_widget_manager": {
                  "url": "https://ssl.gstatic.com/colaboratory-static/widgets/colab-cdn-widget-manager/b3e629b1971e1542/manager.min.js"
                }
              }
            }
          }
        },
        {
          "output_type": "display_data",
          "data": {
            "text/plain": [
              "<IPython.core.display.HTML object>"
            ],
            "text/html": []
          },
          "metadata": {}
        }
      ]
    },
    {
      "cell_type": "code",
      "source": [
        "model = create_model('xgboost')"
      ],
      "metadata": {
        "colab": {
          "base_uri": "https://localhost:8080/",
          "height": 457,
          "referenced_widgets": [
            "ef80acb894194e1fb38bd6bf5a320402",
            "c901f49226a74721aa732fd0399d70d2",
            "f53b7d65ba8a4e62bf3d19e08d132a60",
            "7b97234fd06246f1be1c1ed92ea4ad45",
            "0f3b85206ccf4e3db1edf315025018c1",
            "8b0292ab784a4b93b6280d87838a0469",
            "a658e862589d46f1845deb195eb8026b",
            "fe94362fd6bd40b2abd2e597bd25ae46",
            "b911051b7026445e86998bc27e321b59",
            "4f1ff1fed8ec48b3836fb95ee064ff26",
            "2c4aa70b273e4ad8a03a721892f5b8ff"
          ]
        },
        "id": "puPC9Bim8ViA",
        "outputId": "48ebf6ac-e797-474c-8b63-ebf595829f48"
      },
      "execution_count": null,
      "outputs": [
        {
          "output_type": "display_data",
          "data": {
            "text/plain": [
              "<IPython.core.display.HTML object>"
            ],
            "text/html": []
          },
          "metadata": {}
        },
        {
          "output_type": "display_data",
          "data": {
            "text/plain": [
              "<pandas.io.formats.style.Styler at 0x7b285bd72e90>"
            ],
            "text/html": [
              "<style type=\"text/css\">\n",
              "#T_ff298_row10_col0, #T_ff298_row10_col1, #T_ff298_row10_col2, #T_ff298_row10_col3, #T_ff298_row10_col4, #T_ff298_row10_col5 {\n",
              "  background: yellow;\n",
              "}\n",
              "</style>\n",
              "<table id=\"T_ff298\" class=\"dataframe\">\n",
              "  <thead>\n",
              "    <tr>\n",
              "      <th class=\"blank level0\" >&nbsp;</th>\n",
              "      <th id=\"T_ff298_level0_col0\" class=\"col_heading level0 col0\" >MAE</th>\n",
              "      <th id=\"T_ff298_level0_col1\" class=\"col_heading level0 col1\" >MSE</th>\n",
              "      <th id=\"T_ff298_level0_col2\" class=\"col_heading level0 col2\" >RMSE</th>\n",
              "      <th id=\"T_ff298_level0_col3\" class=\"col_heading level0 col3\" >R2</th>\n",
              "      <th id=\"T_ff298_level0_col4\" class=\"col_heading level0 col4\" >RMSLE</th>\n",
              "      <th id=\"T_ff298_level0_col5\" class=\"col_heading level0 col5\" >MAPE</th>\n",
              "    </tr>\n",
              "    <tr>\n",
              "      <th class=\"index_name level0\" >Fold</th>\n",
              "      <th class=\"blank col0\" >&nbsp;</th>\n",
              "      <th class=\"blank col1\" >&nbsp;</th>\n",
              "      <th class=\"blank col2\" >&nbsp;</th>\n",
              "      <th class=\"blank col3\" >&nbsp;</th>\n",
              "      <th class=\"blank col4\" >&nbsp;</th>\n",
              "      <th class=\"blank col5\" >&nbsp;</th>\n",
              "    </tr>\n",
              "  </thead>\n",
              "  <tbody>\n",
              "    <tr>\n",
              "      <th id=\"T_ff298_level0_row0\" class=\"row_heading level0 row0\" >0</th>\n",
              "      <td id=\"T_ff298_row0_col0\" class=\"data row0 col0\" >0.6089</td>\n",
              "      <td id=\"T_ff298_row0_col1\" class=\"data row0 col1\" >1.0659</td>\n",
              "      <td id=\"T_ff298_row0_col2\" class=\"data row0 col2\" >1.0324</td>\n",
              "      <td id=\"T_ff298_row0_col3\" class=\"data row0 col3\" >0.9577</td>\n",
              "      <td id=\"T_ff298_row0_col4\" class=\"data row0 col4\" >0.1439</td>\n",
              "      <td id=\"T_ff298_row0_col5\" class=\"data row0 col5\" >0.1599</td>\n",
              "    </tr>\n",
              "    <tr>\n",
              "      <th id=\"T_ff298_level0_row1\" class=\"row_heading level0 row1\" >1</th>\n",
              "      <td id=\"T_ff298_row1_col0\" class=\"data row1 col0\" >1.1037</td>\n",
              "      <td id=\"T_ff298_row1_col1\" class=\"data row1 col1\" >5.2388</td>\n",
              "      <td id=\"T_ff298_row1_col2\" class=\"data row1 col2\" >2.2888</td>\n",
              "      <td id=\"T_ff298_row1_col3\" class=\"data row1 col3\" >0.5818</td>\n",
              "      <td id=\"T_ff298_row1_col4\" class=\"data row1 col4\" >0.3311</td>\n",
              "      <td id=\"T_ff298_row1_col5\" class=\"data row1 col5\" >0.4111</td>\n",
              "    </tr>\n",
              "    <tr>\n",
              "      <th id=\"T_ff298_level0_row2\" class=\"row_heading level0 row2\" >2</th>\n",
              "      <td id=\"T_ff298_row2_col0\" class=\"data row2 col0\" >0.7157</td>\n",
              "      <td id=\"T_ff298_row2_col1\" class=\"data row2 col1\" >1.2973</td>\n",
              "      <td id=\"T_ff298_row2_col2\" class=\"data row2 col2\" >1.1390</td>\n",
              "      <td id=\"T_ff298_row2_col3\" class=\"data row2 col3\" >0.9542</td>\n",
              "      <td id=\"T_ff298_row2_col4\" class=\"data row2 col4\" >0.1337</td>\n",
              "      <td id=\"T_ff298_row2_col5\" class=\"data row2 col5\" >0.2962</td>\n",
              "    </tr>\n",
              "    <tr>\n",
              "      <th id=\"T_ff298_level0_row3\" class=\"row_heading level0 row3\" >3</th>\n",
              "      <td id=\"T_ff298_row3_col0\" class=\"data row3 col0\" >0.7077</td>\n",
              "      <td id=\"T_ff298_row3_col1\" class=\"data row3 col1\" >1.1908</td>\n",
              "      <td id=\"T_ff298_row3_col2\" class=\"data row3 col2\" >1.0912</td>\n",
              "      <td id=\"T_ff298_row3_col3\" class=\"data row3 col3\" >0.9621</td>\n",
              "      <td id=\"T_ff298_row3_col4\" class=\"data row3 col4\" >0.1645</td>\n",
              "      <td id=\"T_ff298_row3_col5\" class=\"data row3 col5\" >0.1849</td>\n",
              "    </tr>\n",
              "    <tr>\n",
              "      <th id=\"T_ff298_level0_row4\" class=\"row_heading level0 row4\" >4</th>\n",
              "      <td id=\"T_ff298_row4_col0\" class=\"data row4 col0\" >0.3832</td>\n",
              "      <td id=\"T_ff298_row4_col1\" class=\"data row4 col1\" >0.2694</td>\n",
              "      <td id=\"T_ff298_row4_col2\" class=\"data row4 col2\" >0.5191</td>\n",
              "      <td id=\"T_ff298_row4_col3\" class=\"data row4 col3\" >0.9917</td>\n",
              "      <td id=\"T_ff298_row4_col4\" class=\"data row4 col4\" >0.0860</td>\n",
              "      <td id=\"T_ff298_row4_col5\" class=\"data row4 col5\" >0.0866</td>\n",
              "    </tr>\n",
              "    <tr>\n",
              "      <th id=\"T_ff298_level0_row5\" class=\"row_heading level0 row5\" >5</th>\n",
              "      <td id=\"T_ff298_row5_col0\" class=\"data row5 col0\" >0.3811</td>\n",
              "      <td id=\"T_ff298_row5_col1\" class=\"data row5 col1\" >0.3398</td>\n",
              "      <td id=\"T_ff298_row5_col2\" class=\"data row5 col2\" >0.5829</td>\n",
              "      <td id=\"T_ff298_row5_col3\" class=\"data row5 col3\" >0.9672</td>\n",
              "      <td id=\"T_ff298_row5_col4\" class=\"data row5 col4\" >0.1218</td>\n",
              "      <td id=\"T_ff298_row5_col5\" class=\"data row5 col5\" >0.1944</td>\n",
              "    </tr>\n",
              "    <tr>\n",
              "      <th id=\"T_ff298_level0_row6\" class=\"row_heading level0 row6\" >6</th>\n",
              "      <td id=\"T_ff298_row6_col0\" class=\"data row6 col0\" >1.1560</td>\n",
              "      <td id=\"T_ff298_row6_col1\" class=\"data row6 col1\" >15.2098</td>\n",
              "      <td id=\"T_ff298_row6_col2\" class=\"data row6 col2\" >3.9000</td>\n",
              "      <td id=\"T_ff298_row6_col3\" class=\"data row6 col3\" >0.7574</td>\n",
              "      <td id=\"T_ff298_row6_col4\" class=\"data row6 col4\" >0.1702</td>\n",
              "      <td id=\"T_ff298_row6_col5\" class=\"data row6 col5\" >0.0959</td>\n",
              "    </tr>\n",
              "    <tr>\n",
              "      <th id=\"T_ff298_level0_row7\" class=\"row_heading level0 row7\" >7</th>\n",
              "      <td id=\"T_ff298_row7_col0\" class=\"data row7 col0\" >0.3588</td>\n",
              "      <td id=\"T_ff298_row7_col1\" class=\"data row7 col1\" >0.2935</td>\n",
              "      <td id=\"T_ff298_row7_col2\" class=\"data row7 col2\" >0.5417</td>\n",
              "      <td id=\"T_ff298_row7_col3\" class=\"data row7 col3\" >0.9655</td>\n",
              "      <td id=\"T_ff298_row7_col4\" class=\"data row7 col4\" >0.0960</td>\n",
              "      <td id=\"T_ff298_row7_col5\" class=\"data row7 col5\" >0.1856</td>\n",
              "    </tr>\n",
              "    <tr>\n",
              "      <th id=\"T_ff298_level0_row8\" class=\"row_heading level0 row8\" >8</th>\n",
              "      <td id=\"T_ff298_row8_col0\" class=\"data row8 col0\" >0.9021</td>\n",
              "      <td id=\"T_ff298_row8_col1\" class=\"data row8 col1\" >4.7292</td>\n",
              "      <td id=\"T_ff298_row8_col2\" class=\"data row8 col2\" >2.1747</td>\n",
              "      <td id=\"T_ff298_row8_col3\" class=\"data row8 col3\" >0.9043</td>\n",
              "      <td id=\"T_ff298_row8_col4\" class=\"data row8 col4\" >0.1263</td>\n",
              "      <td id=\"T_ff298_row8_col5\" class=\"data row8 col5\" >0.1729</td>\n",
              "    </tr>\n",
              "    <tr>\n",
              "      <th id=\"T_ff298_level0_row9\" class=\"row_heading level0 row9\" >9</th>\n",
              "      <td id=\"T_ff298_row9_col0\" class=\"data row9 col0\" >0.7590</td>\n",
              "      <td id=\"T_ff298_row9_col1\" class=\"data row9 col1\" >1.4865</td>\n",
              "      <td id=\"T_ff298_row9_col2\" class=\"data row9 col2\" >1.2192</td>\n",
              "      <td id=\"T_ff298_row9_col3\" class=\"data row9 col3\" >0.9277</td>\n",
              "      <td id=\"T_ff298_row9_col4\" class=\"data row9 col4\" >0.1518</td>\n",
              "      <td id=\"T_ff298_row9_col5\" class=\"data row9 col5\" >0.1695</td>\n",
              "    </tr>\n",
              "    <tr>\n",
              "      <th id=\"T_ff298_level0_row10\" class=\"row_heading level0 row10\" >Mean</th>\n",
              "      <td id=\"T_ff298_row10_col0\" class=\"data row10 col0\" >0.7076</td>\n",
              "      <td id=\"T_ff298_row10_col1\" class=\"data row10 col1\" >3.1121</td>\n",
              "      <td id=\"T_ff298_row10_col2\" class=\"data row10 col2\" >1.4489</td>\n",
              "      <td id=\"T_ff298_row10_col3\" class=\"data row10 col3\" >0.8970</td>\n",
              "      <td id=\"T_ff298_row10_col4\" class=\"data row10 col4\" >0.1525</td>\n",
              "      <td id=\"T_ff298_row10_col5\" class=\"data row10 col5\" >0.1957</td>\n",
              "    </tr>\n",
              "    <tr>\n",
              "      <th id=\"T_ff298_level0_row11\" class=\"row_heading level0 row11\" >Std</th>\n",
              "      <td id=\"T_ff298_row11_col0\" class=\"data row11 col0\" >0.2723</td>\n",
              "      <td id=\"T_ff298_row11_col1\" class=\"data row11 col1\" >4.3706</td>\n",
              "      <td id=\"T_ff298_row11_col2\" class=\"data row11 col2\" >1.0064</td>\n",
              "      <td id=\"T_ff298_row11_col3\" class=\"data row11 col3\" >0.1223</td>\n",
              "      <td id=\"T_ff298_row11_col4\" class=\"data row11 col4\" >0.0648</td>\n",
              "      <td id=\"T_ff298_row11_col5\" class=\"data row11 col5\" >0.0900</td>\n",
              "    </tr>\n",
              "  </tbody>\n",
              "</table>\n"
            ]
          },
          "metadata": {}
        },
        {
          "output_type": "display_data",
          "data": {
            "text/plain": [
              "Processing:   0%|          | 0/4 [00:00<?, ?it/s]"
            ],
            "application/vnd.jupyter.widget-view+json": {
              "version_major": 2,
              "version_minor": 0,
              "model_id": "ef80acb894194e1fb38bd6bf5a320402"
            }
          },
          "metadata": {
            "application/vnd.jupyter.widget-view+json": {
              "colab": {
                "custom_widget_manager": {
                  "url": "https://ssl.gstatic.com/colaboratory-static/widgets/colab-cdn-widget-manager/b3e629b1971e1542/manager.min.js"
                }
              }
            }
          }
        },
        {
          "output_type": "display_data",
          "data": {
            "text/plain": [
              "<IPython.core.display.HTML object>"
            ],
            "text/html": []
          },
          "metadata": {}
        }
      ]
    },
    {
      "cell_type": "code",
      "source": [
        "x = data.drop('Selling_Price', axis=1)\n",
        "y = data['Selling_Price']"
      ],
      "metadata": {
        "id": "ffTty6mE8VlV"
      },
      "execution_count": null,
      "outputs": []
    },
    {
      "cell_type": "code",
      "source": [
        "from sklearn.model_selection import train_test_split"
      ],
      "metadata": {
        "id": "ygpMRAUe8Vob"
      },
      "execution_count": null,
      "outputs": []
    },
    {
      "cell_type": "code",
      "source": [
        "x_train, x_test, y_train, y_test = train_test_split(x, y, test_size=0.25, random_state=123)"
      ],
      "metadata": {
        "id": "E0UuFgV28nI7"
      },
      "execution_count": null,
      "outputs": []
    },
    {
      "cell_type": "code",
      "source": [
        "model.fit(x_train, y_train)"
      ],
      "metadata": {
        "colab": {
          "base_uri": "https://localhost:8080/",
          "height": 248
        },
        "id": "kpHBy7dS8nMh",
        "outputId": "ce6f2f39-0d1e-4854-8806-6e99f1a14782"
      },
      "execution_count": null,
      "outputs": [
        {
          "output_type": "execute_result",
          "data": {
            "text/plain": [
              "XGBRegressor(base_score=None, booster='gbtree', callbacks=None,\n",
              "             colsample_bylevel=None, colsample_bynode=None,\n",
              "             colsample_bytree=None, device=None, early_stopping_rounds=None,\n",
              "             enable_categorical=False, eval_metric=None, feature_types=None,\n",
              "             gamma=None, grow_policy=None, importance_type=None,\n",
              "             interaction_constraints=None, learning_rate=None, max_bin=None,\n",
              "             max_cat_threshold=None, max_cat_to_onehot=None,\n",
              "             max_delta_step=None, max_depth=None, max_leaves=None,\n",
              "             min_child_weight=None, missing=nan, monotone_constraints=None,\n",
              "             multi_strategy=None, n_estimators=None, n_jobs=-1,\n",
              "             num_parallel_tree=None, random_state=123, ...)"
            ],
            "text/html": [
              "<style>#sk-container-id-1 {color: black;background-color: white;}#sk-container-id-1 pre{padding: 0;}#sk-container-id-1 div.sk-toggleable {background-color: white;}#sk-container-id-1 label.sk-toggleable__label {cursor: pointer;display: block;width: 100%;margin-bottom: 0;padding: 0.3em;box-sizing: border-box;text-align: center;}#sk-container-id-1 label.sk-toggleable__label-arrow:before {content: \"▸\";float: left;margin-right: 0.25em;color: #696969;}#sk-container-id-1 label.sk-toggleable__label-arrow:hover:before {color: black;}#sk-container-id-1 div.sk-estimator:hover label.sk-toggleable__label-arrow:before {color: black;}#sk-container-id-1 div.sk-toggleable__content {max-height: 0;max-width: 0;overflow: hidden;text-align: left;background-color: #f0f8ff;}#sk-container-id-1 div.sk-toggleable__content pre {margin: 0.2em;color: black;border-radius: 0.25em;background-color: #f0f8ff;}#sk-container-id-1 input.sk-toggleable__control:checked~div.sk-toggleable__content {max-height: 200px;max-width: 100%;overflow: auto;}#sk-container-id-1 input.sk-toggleable__control:checked~label.sk-toggleable__label-arrow:before {content: \"▾\";}#sk-container-id-1 div.sk-estimator input.sk-toggleable__control:checked~label.sk-toggleable__label {background-color: #d4ebff;}#sk-container-id-1 div.sk-label input.sk-toggleable__control:checked~label.sk-toggleable__label {background-color: #d4ebff;}#sk-container-id-1 input.sk-hidden--visually {border: 0;clip: rect(1px 1px 1px 1px);clip: rect(1px, 1px, 1px, 1px);height: 1px;margin: -1px;overflow: hidden;padding: 0;position: absolute;width: 1px;}#sk-container-id-1 div.sk-estimator {font-family: monospace;background-color: #f0f8ff;border: 1px dotted black;border-radius: 0.25em;box-sizing: border-box;margin-bottom: 0.5em;}#sk-container-id-1 div.sk-estimator:hover {background-color: #d4ebff;}#sk-container-id-1 div.sk-parallel-item::after {content: \"\";width: 100%;border-bottom: 1px solid gray;flex-grow: 1;}#sk-container-id-1 div.sk-label:hover label.sk-toggleable__label {background-color: #d4ebff;}#sk-container-id-1 div.sk-serial::before {content: \"\";position: absolute;border-left: 1px solid gray;box-sizing: border-box;top: 0;bottom: 0;left: 50%;z-index: 0;}#sk-container-id-1 div.sk-serial {display: flex;flex-direction: column;align-items: center;background-color: white;padding-right: 0.2em;padding-left: 0.2em;position: relative;}#sk-container-id-1 div.sk-item {position: relative;z-index: 1;}#sk-container-id-1 div.sk-parallel {display: flex;align-items: stretch;justify-content: center;background-color: white;position: relative;}#sk-container-id-1 div.sk-item::before, #sk-container-id-1 div.sk-parallel-item::before {content: \"\";position: absolute;border-left: 1px solid gray;box-sizing: border-box;top: 0;bottom: 0;left: 50%;z-index: -1;}#sk-container-id-1 div.sk-parallel-item {display: flex;flex-direction: column;z-index: 1;position: relative;background-color: white;}#sk-container-id-1 div.sk-parallel-item:first-child::after {align-self: flex-end;width: 50%;}#sk-container-id-1 div.sk-parallel-item:last-child::after {align-self: flex-start;width: 50%;}#sk-container-id-1 div.sk-parallel-item:only-child::after {width: 0;}#sk-container-id-1 div.sk-dashed-wrapped {border: 1px dashed gray;margin: 0 0.4em 0.5em 0.4em;box-sizing: border-box;padding-bottom: 0.4em;background-color: white;}#sk-container-id-1 div.sk-label label {font-family: monospace;font-weight: bold;display: inline-block;line-height: 1.2em;}#sk-container-id-1 div.sk-label-container {text-align: center;}#sk-container-id-1 div.sk-container {/* jupyter's `normalize.less` sets `[hidden] { display: none; }` but bootstrap.min.css set `[hidden] { display: none !important; }` so we also need the `!important` here to be able to override the default hidden behavior on the sphinx rendered scikit-learn.org. See: https://github.com/scikit-learn/scikit-learn/issues/21755 */display: inline-block !important;position: relative;}#sk-container-id-1 div.sk-text-repr-fallback {display: none;}</style><div id=\"sk-container-id-1\" class=\"sk-top-container\"><div class=\"sk-text-repr-fallback\"><pre>XGBRegressor(base_score=None, booster=&#x27;gbtree&#x27;, callbacks=None,\n",
              "             colsample_bylevel=None, colsample_bynode=None,\n",
              "             colsample_bytree=None, device=None, early_stopping_rounds=None,\n",
              "             enable_categorical=False, eval_metric=None, feature_types=None,\n",
              "             gamma=None, grow_policy=None, importance_type=None,\n",
              "             interaction_constraints=None, learning_rate=None, max_bin=None,\n",
              "             max_cat_threshold=None, max_cat_to_onehot=None,\n",
              "             max_delta_step=None, max_depth=None, max_leaves=None,\n",
              "             min_child_weight=None, missing=nan, monotone_constraints=None,\n",
              "             multi_strategy=None, n_estimators=None, n_jobs=-1,\n",
              "             num_parallel_tree=None, random_state=123, ...)</pre><b>In a Jupyter environment, please rerun this cell to show the HTML representation or trust the notebook. <br />On GitHub, the HTML representation is unable to render, please try loading this page with nbviewer.org.</b></div><div class=\"sk-container\" hidden><div class=\"sk-item\"><div class=\"sk-estimator sk-toggleable\"><input class=\"sk-toggleable__control sk-hidden--visually\" id=\"sk-estimator-id-1\" type=\"checkbox\" checked><label for=\"sk-estimator-id-1\" class=\"sk-toggleable__label sk-toggleable__label-arrow\">XGBRegressor</label><div class=\"sk-toggleable__content\"><pre>XGBRegressor(base_score=None, booster=&#x27;gbtree&#x27;, callbacks=None,\n",
              "             colsample_bylevel=None, colsample_bynode=None,\n",
              "             colsample_bytree=None, device=None, early_stopping_rounds=None,\n",
              "             enable_categorical=False, eval_metric=None, feature_types=None,\n",
              "             gamma=None, grow_policy=None, importance_type=None,\n",
              "             interaction_constraints=None, learning_rate=None, max_bin=None,\n",
              "             max_cat_threshold=None, max_cat_to_onehot=None,\n",
              "             max_delta_step=None, max_depth=None, max_leaves=None,\n",
              "             min_child_weight=None, missing=nan, monotone_constraints=None,\n",
              "             multi_strategy=None, n_estimators=None, n_jobs=-1,\n",
              "             num_parallel_tree=None, random_state=123, ...)</pre></div></div></div></div></div>"
            ]
          },
          "metadata": {},
          "execution_count": 22
        }
      ]
    },
    {
      "cell_type": "code",
      "source": [
        "data.info()"
      ],
      "metadata": {
        "colab": {
          "base_uri": "https://localhost:8080/"
        },
        "id": "KdxnTMwm8nQZ",
        "outputId": "ad4825e0-8516-4ccc-8d09-8e1600202696"
      },
      "execution_count": null,
      "outputs": [
        {
          "output_type": "stream",
          "name": "stdout",
          "text": [
            "<class 'pandas.core.frame.DataFrame'>\n",
            "RangeIndex: 301 entries, 0 to 300\n",
            "Data columns (total 8 columns):\n",
            " #   Column         Non-Null Count  Dtype  \n",
            "---  ------         --------------  -----  \n",
            " 0   Year           301 non-null    int64  \n",
            " 1   Selling_Price  301 non-null    float64\n",
            " 2   Present_Price  301 non-null    float64\n",
            " 3   Kms_Driven     301 non-null    int64  \n",
            " 4   Fuel_Type      301 non-null    int64  \n",
            " 5   Seller_Type    301 non-null    int64  \n",
            " 6   Transmission   301 non-null    int64  \n",
            " 7   Owner          301 non-null    int64  \n",
            "dtypes: float64(2), int64(6)\n",
            "memory usage: 18.9 KB\n"
          ]
        }
      ]
    },
    {
      "cell_type": "code",
      "source": [
        "yr = int(input('Enter Year of buying car : '))\n",
        "price = float(input('Enter Present Price of Car : '))\n",
        "kms = int(input('Enter Kms Driven by car : '))\n",
        "ft = int(input('Enter Fuel Type : '))\n",
        "st = int(input('Enter Seller Type : '))\n",
        "trans = int(input('Enter Transmission type : '))\n",
        "owner = int(input('Enter Owner Type : '))"
      ],
      "metadata": {
        "colab": {
          "base_uri": "https://localhost:8080/"
        },
        "id": "nmLQIjca8nTf",
        "outputId": "32f724e5-85bc-4831-864f-7dc4e7c0371b"
      },
      "execution_count": null,
      "outputs": [
        {
          "name": "stdout",
          "output_type": "stream",
          "text": [
            "Enter Year of buying car : 2003\n",
            "Enter Present Price of Car : 45000\n",
            "Enter Kms Driven by car : 14\n",
            "Enter Fuel Type : 10\n",
            "Enter Seller Type : 1\n",
            "Enter Transmission type : 0\n",
            "Enter Owner Type : 1\n"
          ]
        }
      ]
    },
    {
      "cell_type": "code",
      "source": [
        "import numpy as np\n",
        "\n",
        "user_data = np.array([[yr, price, kms, ft, st, trans, owner]])\n",
        "\n",
        "prediction = model.predict(user_data)[0]\n",
        "\n",
        "print('Predicted Used Car Price : ₹', prediction, 'Lakhs')"
      ],
      "metadata": {
        "colab": {
          "base_uri": "https://localhost:8080/"
        },
        "id": "qUd2sN8d8VrT",
        "outputId": "356202e9-a2aa-483a-b453-1e3eb28f81b0"
      },
      "execution_count": null,
      "outputs": [
        {
          "output_type": "stream",
          "name": "stdout",
          "text": [
            "Predicted Used Car Price : ₹ 34.93141 Lakhs\n"
          ]
        }
      ]
    },
    {
      "cell_type": "code",
      "source": [
        "import pickle\n",
        "\n",
        "with open('used_cars_prediction.pkl', 'wb') as file:\n",
        "  pickle.dump(model, file)"
      ],
      "metadata": {
        "id": "7YRv89mh8VvW"
      },
      "execution_count": null,
      "outputs": []
    }
  ]
}